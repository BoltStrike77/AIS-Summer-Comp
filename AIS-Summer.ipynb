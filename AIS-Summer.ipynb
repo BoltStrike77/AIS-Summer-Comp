{
 "cells": [
  {
   "cell_type": "markdown",
   "metadata": {},
   "source": [
    "# AIS Summer Comp (Advay Vyas)"
   ]
  },
  {
   "cell_type": "markdown",
   "metadata": {},
   "source": [
    "### Imports and data"
   ]
  },
  {
   "cell_type": "code",
   "execution_count": 22,
   "metadata": {},
   "outputs": [],
   "source": [
    "# imports\n",
    "from sklearn.metrics import mean_squared_error\n",
    "from sklearn.model_selection import train_test_split\n",
    "from sklearn.model_selection import GridSearchCV\n",
    "from sklearn.ensemble import RandomForestRegressor\n",
    "from sklearn import preprocessing\n",
    "from sklearn.pipeline import make_pipeline\n",
    "import pandas as pd\n",
    "import numpy as np\n",
    "import pprint\n",
    "from math import sqrt"
   ]
  },
  {
   "cell_type": "code",
   "execution_count": 23,
   "metadata": {},
   "outputs": [],
   "source": [
    "# load data\n",
    "train_file_path = 'C:\\\\Users\\\\advay\\\\OneDrive\\\\Desktop\\\\Coding\\\\VSCode\\\\Python\\\\AIS Summer Comp 2022\\\\train.csv'\n",
    "all_data = pd.read_csv(train_file_path)"
   ]
  },
  {
   "cell_type": "code",
   "execution_count": 24,
   "metadata": {},
   "outputs": [
    {
     "data": {
      "text/plain": [
       "0    455800\n",
       "1    365700\n",
       "2    298300\n",
       "3    334200\n",
       "4    219100\n",
       "Name: Median House Price, dtype: int64"
      ]
     },
     "execution_count": 24,
     "metadata": {},
     "output_type": "execute_result"
    }
   ],
   "source": [
    "# get target\n",
    "y = all_data['Median House Price']\n",
    "y.head()"
   ]
  },
  {
   "cell_type": "code",
   "execution_count": 25,
   "metadata": {},
   "outputs": [
    {
     "data": {
      "text/html": [
       "<div>\n",
       "<style scoped>\n",
       "    .dataframe tbody tr th:only-of-type {\n",
       "        vertical-align: middle;\n",
       "    }\n",
       "\n",
       "    .dataframe tbody tr th {\n",
       "        vertical-align: top;\n",
       "    }\n",
       "\n",
       "    .dataframe thead th {\n",
       "        text-align: right;\n",
       "    }\n",
       "</style>\n",
       "<table border=\"1\" class=\"dataframe\">\n",
       "  <thead>\n",
       "    <tr style=\"text-align: right;\">\n",
       "      <th></th>\n",
       "      <th>Population</th>\n",
       "      <th>Median Age</th>\n",
       "      <th>Unemployment Rate</th>\n",
       "      <th>Median Income</th>\n",
       "      <th>Poverty Rate</th>\n",
       "    </tr>\n",
       "  </thead>\n",
       "  <tbody>\n",
       "    <tr>\n",
       "      <th>0</th>\n",
       "      <td>840562</td>\n",
       "      <td>35.6</td>\n",
       "      <td>5.1</td>\n",
       "      <td>7.8</td>\n",
       "      <td>26.5</td>\n",
       "    </tr>\n",
       "    <tr>\n",
       "      <th>1</th>\n",
       "      <td>913161</td>\n",
       "      <td>37.5</td>\n",
       "      <td>4.0</td>\n",
       "      <td>6.2</td>\n",
       "      <td>54.5</td>\n",
       "    </tr>\n",
       "    <tr>\n",
       "      <th>2</th>\n",
       "      <td>768917</td>\n",
       "      <td>33.0</td>\n",
       "      <td>6.6</td>\n",
       "      <td>15.2</td>\n",
       "      <td>24.5</td>\n",
       "    </tr>\n",
       "    <tr>\n",
       "      <th>3</th>\n",
       "      <td>710626</td>\n",
       "      <td>42.1</td>\n",
       "      <td>3.1</td>\n",
       "      <td>4.6</td>\n",
       "      <td>53.2</td>\n",
       "    </tr>\n",
       "    <tr>\n",
       "      <th>4</th>\n",
       "      <td>791257</td>\n",
       "      <td>38.3</td>\n",
       "      <td>3.5</td>\n",
       "      <td>8.1</td>\n",
       "      <td>47.9</td>\n",
       "    </tr>\n",
       "  </tbody>\n",
       "</table>\n",
       "</div>"
      ],
      "text/plain": [
       "   Population  Median Age  Unemployment Rate  Median Income  Poverty Rate\n",
       "0      840562        35.6                5.1            7.8          26.5\n",
       "1      913161        37.5                4.0            6.2          54.5\n",
       "2      768917        33.0                6.6           15.2          24.5\n",
       "3      710626        42.1                3.1            4.6          53.2\n",
       "4      791257        38.3                3.5            8.1          47.9"
      ]
     },
     "execution_count": 25,
     "metadata": {},
     "output_type": "execute_result"
    }
   ],
   "source": [
    "# creating X\n",
    "features = ['Population', 'Median Age', 'Unemployment Rate', 'Median Income', 'Poverty Rate']\n",
    "X = all_data[features]\n",
    "X.head()"
   ]
  },
  {
   "cell_type": "markdown",
   "metadata": {},
   "source": [
    "### Refined RandomForestRegressor Pipeline"
   ]
  },
  {
   "cell_type": "markdown",
   "metadata": {},
   "source": [
    "#### Pipeline"
   ]
  },
  {
   "cell_type": "code",
   "execution_count": 26,
   "metadata": {},
   "outputs": [
    {
     "name": "stdout",
     "output_type": "stream",
     "text": [
      "\n",
      "Mean of scaled training data:\n",
      "[ 7.51991062e-16  1.14278957e-15 -4.07081776e-17  2.36847579e-17\n",
      "  2.30926389e-16]\n",
      "\n",
      "Standard Dev of scaled training data:\n",
      "[1. 1. 1. 1. 1.]\n"
     ]
    }
   ],
   "source": [
    "X_train, X_test, y_train, y_test = train_test_split(X, y, test_size=.25, random_state = 42)\n",
    "                    \n",
    "# preprocess and scale data\n",
    "scaler = preprocessing.StandardScaler().fit(X_train) #create scaler\n",
    "X_train_scaled = scaler.transform(X_train)\n",
    "print(\"\\nMean of scaled training data:\")\n",
    "print(X_train_scaled.mean(axis=0))\n",
    "print(\"\\nStandard Dev of scaled training data:\")\n",
    "print(X_train_scaled.std(axis=0))"
   ]
  },
  {
   "cell_type": "code",
   "execution_count": 27,
   "metadata": {},
   "outputs": [
    {
     "name": "stdout",
     "output_type": "stream",
     "text": [
      "\n",
      "Mean of scaled test data:\n",
      "[ 0.02296455 -0.13318823 -0.19505616 -0.21431031 -0.03409505]\n",
      "\n",
      "Standard Dev of scaled test data:\n",
      "[0.79937603 0.89947398 1.05992033 0.82536742 0.85708767]\n"
     ]
    }
   ],
   "source": [
    "# transform test set using training set scale\n",
    "X_test_scaled = scaler.transform(X_test)\n",
    "print(\"\\nMean of scaled test data:\")\n",
    "print (X_test_scaled.mean(axis=0))\n",
    "print(\"\\nStandard Dev of scaled test data:\")\n",
    "print (X_test_scaled.std(axis=0))"
   ]
  },
  {
   "cell_type": "code",
   "execution_count": 28,
   "metadata": {},
   "outputs": [],
   "source": [
    "# create pipeline\n",
    "rf_pipeline = make_pipeline(preprocessing.StandardScaler(), RandomForestRegressor(random_state = 42, criterion = 'squared_error'))"
   ]
  },
  {
   "cell_type": "markdown",
   "metadata": {},
   "source": [
    "#### Hyperparameter grid values"
   ]
  },
  {
   "cell_type": "code",
   "execution_count": 29,
   "metadata": {},
   "outputs": [],
   "source": [
    "from sklearn.model_selection import RandomizedSearchCV\n",
    "\n",
    "# max features\n",
    "max_features = ['auto', 'sqrt', 'log']\n",
    "\n",
    "# bootstrap\n",
    "bootstrap = ['True', 'False']\n",
    "\n",
    "# tree depth\n",
    "max_depth = [int(x) for x in np.linspace(start = 1, stop = 10, num = 5)]\n",
    "max_depth.append('None')\n",
    "\n",
    "# max features\n",
    "max_features = [float(x) for x in np.linspace(start = 0, stop = 5, num = 6)]\n",
    "max_features.append('None')\n",
    "\n",
    "# max leaf nodes\n",
    "max_leaf_nodes = [int(x) for x in np.linspace(start = 1, stop = 20, num = 8)]\n",
    "max_leaf_nodes.append('None')\n",
    "\n",
    "# min samples leaf\n",
    "min_samples_leaf = [int(x) for x in np.linspace(start = 1, stop = 10, num = 3)]\n",
    "min_samples_leaf.append(1)\n",
    "\n",
    "# min samples split\n",
    "min_samples_split = [int(x) for x in np.linspace(start = 2, stop = 10, num = 3)]\n",
    "min_samples_split.append(2)\n",
    "\n",
    "# number of trees\n",
    "n_estimators = [int(x) for x in np.linspace(start = 80, stop = 450, num = 6)]"
   ]
  },
  {
   "cell_type": "markdown",
   "metadata": {},
   "source": [
    "#### Creating hyperparameter grid to use in tuning with k-fold cross validation"
   ]
  },
  {
   "cell_type": "code",
   "execution_count": 34,
   "metadata": {},
   "outputs": [
    {
     "name": "stdout",
     "output_type": "stream",
     "text": [
      "{'randomforestregressor__bootstrap': ['True', 'False'],\n",
      " 'randomforestregressor__max_depth': [1, 3, 5, 7, 10, 'None'],\n",
      " 'randomforestregressor__max_features': [0.0, 1.0, 2.0, 3.0, 4.0, 5.0, 'None'],\n",
      " 'randomforestregressor__max_leaf_nodes': [1, 3, 6, 9, 11, 14, 17, 20, 'None'],\n",
      " 'randomforestregressor__min_samples_leaf': [1, 5, 10, 1],\n",
      " 'randomforestregressor__min_samples_split': [2, 6, 10, 2],\n",
      " 'randomforestregressor__n_estimators': [80, 154, 228, 302, 376, 450]}\n"
     ]
    }
   ],
   "source": [
    "# create hyperparameter grid\n",
    "hyperparameters = {\n",
    " 'randomforestregressor__bootstrap': bootstrap,\n",
    " 'randomforestregressor__max_depth': max_depth,\n",
    " 'randomforestregressor__max_features': max_features,\n",
    " 'randomforestregressor__max_leaf_nodes': max_leaf_nodes,\n",
    " 'randomforestregressor__min_samples_leaf': min_samples_leaf,\n",
    " 'randomforestregressor__min_samples_split': min_samples_split,\n",
    " 'randomforestregressor__n_estimators': n_estimators}\n",
    "               \n",
    "pprint.pprint(hyperparameters)"
   ]
  },
  {
   "cell_type": "markdown",
   "metadata": {},
   "source": [
    "#### K-fold CV with GridSearchCV and RF Pipeline"
   ]
  },
  {
   "cell_type": "code",
   "execution_count": 37,
   "metadata": {},
   "outputs": [],
   "source": [
    "# fit and tune model\n",
    "rf_clf = GridSearchCV(rf_pipeline, hyperparameters, cv=10)\n",
    "rf_clf.fit(X_train, y_train)      \n",
    "\n",
    "print('Best Parameters')\n",
    "print(rf_clf.best_params_)\n",
    "rf_clf.refit\n",
    "print(rf_clf.refit)"
   ]
  },
  {
   "cell_type": "markdown",
   "metadata": {},
   "source": [
    "#### Evaluating the results of k-fold cross-validation"
   ]
  },
  {
   "cell_type": "code",
   "execution_count": null,
   "metadata": {},
   "outputs": [],
   "source": [
    "def evaluate(model, X_test, y_test):\n",
    "    predictions = model.predict(X_test)\n",
    "    error = sqrt(mean_squared_error(y_test, predictions))\n",
    "    print('RMSE:')\n",
    "    print(error)"
   ]
  },
  {
   "cell_type": "code",
   "execution_count": null,
   "metadata": {},
   "outputs": [],
   "source": [
    "baseline_model = RandomForestRegressor(random_state = 42)\n",
    "baseline_model.fit(X_train_scaled, y_train)\n",
    "print('RMSE (lower is better)')\n",
    "base_accuracy = evaluate(baseline_model, X_test_scaled, y_test)"
   ]
  },
  {
   "cell_type": "code",
   "execution_count": null,
   "metadata": {},
   "outputs": [],
   "source": [
    "print('RMSE (lower is better)')\n",
    "refined_accuracy = evaluate(rf_clf, X_test, y_test)"
   ]
  },
  {
   "cell_type": "code",
   "execution_count": null,
   "metadata": {},
   "outputs": [],
   "source": [
    "print('RMSE Errors (higher difference is better)')\n",
    "print(refined_accuracy - base_accuracy)\n",
    "print('Percentage difference')\n",
    "print(((refined_accuracy - base_accuracy) / base_accuracy) + '%')"
   ]
  },
  {
   "cell_type": "markdown",
   "metadata": {},
   "source": [
    "### Predicting competition data"
   ]
  },
  {
   "cell_type": "code",
   "execution_count": null,
   "metadata": {},
   "outputs": [],
   "source": [
    "# reading competition data\n",
    "competition_data_path = 'C:\\\\Users\\\\advay\\\\OneDrive\\\\Desktop\\\\Coding\\\\VSCode\\\\Python\\\\AIS Summer Comp 2022\\\\evaluation_input.csv'\n",
    "competition_data = pd.read_csv(competition_data_path)\n",
    "competition_data.head()"
   ]
  },
  {
   "cell_type": "code",
   "execution_count": null,
   "metadata": {},
   "outputs": [],
   "source": [
    "# creating competition X\n",
    "competition_X = competition_data[features]\n",
    "competition_X.head()"
   ]
  },
  {
   "cell_type": "code",
   "execution_count": null,
   "metadata": {},
   "outputs": [],
   "source": [
    "# competition predictions\n",
    "competition_preds = rf_clf.predict(competition_X)\n",
    "print(competition_preds)"
   ]
  },
  {
   "cell_type": "markdown",
   "metadata": {},
   "source": [
    "### Generating submission"
   ]
  },
  {
   "cell_type": "code",
   "execution_count": null,
   "metadata": {},
   "outputs": [],
   "source": [
    "# Creating and outputting DataFrame\n",
    "output = pd.DataFrame({'ID': competition_data.ID, 'Median House Price': competition_preds})\n",
    "output.to_csv('Vyas_Advay_answer.csv', index=False)"
   ]
  }
 ],
 "metadata": {
  "kernelspec": {
   "display_name": "Python 3.9.12 ('base')",
   "language": "python",
   "name": "python3"
  },
  "language_info": {
   "codemirror_mode": {
    "name": "ipython",
    "version": 3
   },
   "file_extension": ".py",
   "mimetype": "text/x-python",
   "name": "python",
   "nbconvert_exporter": "python",
   "pygments_lexer": "ipython3",
   "version": "3.9.12"
  },
  "orig_nbformat": 4,
  "vscode": {
   "interpreter": {
    "hash": "b0d8b00385fed0be2ecd2298f954d5f87042379fb0759f0fcec831b5194ef8ba"
   }
  }
 },
 "nbformat": 4,
 "nbformat_minor": 2
}
