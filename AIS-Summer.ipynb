{
 "cells": [
  {
   "cell_type": "markdown",
   "metadata": {},
   "source": [
    "# AIS Summer Comp (Advay Vyas)"
   ]
  },
  {
   "cell_type": "markdown",
   "metadata": {},
   "source": [
    "### Imports and data"
   ]
  },
  {
   "cell_type": "code",
   "execution_count": 57,
   "metadata": {},
   "outputs": [],
   "source": [
    "# imports\n",
    "from sklearn.ensemble import RandomForestRegressor\n",
    "from sklearn.metrics import mean_squared_error\n",
    "from sklearn.model_selection import train_test_split\n",
    "import pandas as pd\n",
    "import numpy as np\n",
    "from math import sqrt"
   ]
  },
  {
   "cell_type": "code",
   "execution_count": 58,
   "metadata": {},
   "outputs": [],
   "source": [
    "# load data\n",
    "train_file_path = 'C:\\\\Users\\\\advay\\\\OneDrive\\\\Coding\\\\VSCode\\\\Python\\\\AIS Summer Comp 2022\\\\train.csv'\n",
    "all_data = pd.read_csv(train_file_path)"
   ]
  },
  {
   "cell_type": "code",
   "execution_count": 59,
   "metadata": {},
   "outputs": [
    {
     "data": {
      "text/plain": [
       "0    455800\n",
       "1    365700\n",
       "2    298300\n",
       "3    334200\n",
       "4    219100\n",
       "Name: Median House Price, dtype: int64"
      ]
     },
     "execution_count": 59,
     "metadata": {},
     "output_type": "execute_result"
    }
   ],
   "source": [
    "# get target\n",
    "y = all_data['Median House Price']\n",
    "y.head()"
   ]
  },
  {
   "cell_type": "code",
   "execution_count": 60,
   "metadata": {},
   "outputs": [
    {
     "data": {
      "text/html": [
       "<div>\n",
       "<style scoped>\n",
       "    .dataframe tbody tr th:only-of-type {\n",
       "        vertical-align: middle;\n",
       "    }\n",
       "\n",
       "    .dataframe tbody tr th {\n",
       "        vertical-align: top;\n",
       "    }\n",
       "\n",
       "    .dataframe thead th {\n",
       "        text-align: right;\n",
       "    }\n",
       "</style>\n",
       "<table border=\"1\" class=\"dataframe\">\n",
       "  <thead>\n",
       "    <tr style=\"text-align: right;\">\n",
       "      <th></th>\n",
       "      <th>Population</th>\n",
       "      <th>Median Age</th>\n",
       "      <th>Unemployment Rate</th>\n",
       "      <th>Median Income</th>\n",
       "      <th>Poverty Rate</th>\n",
       "    </tr>\n",
       "  </thead>\n",
       "  <tbody>\n",
       "    <tr>\n",
       "      <th>0</th>\n",
       "      <td>840562</td>\n",
       "      <td>35.6</td>\n",
       "      <td>5.1</td>\n",
       "      <td>7.8</td>\n",
       "      <td>26.5</td>\n",
       "    </tr>\n",
       "    <tr>\n",
       "      <th>1</th>\n",
       "      <td>913161</td>\n",
       "      <td>37.5</td>\n",
       "      <td>4.0</td>\n",
       "      <td>6.2</td>\n",
       "      <td>54.5</td>\n",
       "    </tr>\n",
       "    <tr>\n",
       "      <th>2</th>\n",
       "      <td>768917</td>\n",
       "      <td>33.0</td>\n",
       "      <td>6.6</td>\n",
       "      <td>15.2</td>\n",
       "      <td>24.5</td>\n",
       "    </tr>\n",
       "    <tr>\n",
       "      <th>3</th>\n",
       "      <td>710626</td>\n",
       "      <td>42.1</td>\n",
       "      <td>3.1</td>\n",
       "      <td>4.6</td>\n",
       "      <td>53.2</td>\n",
       "    </tr>\n",
       "    <tr>\n",
       "      <th>4</th>\n",
       "      <td>791257</td>\n",
       "      <td>38.3</td>\n",
       "      <td>3.5</td>\n",
       "      <td>8.1</td>\n",
       "      <td>47.9</td>\n",
       "    </tr>\n",
       "  </tbody>\n",
       "</table>\n",
       "</div>"
      ],
      "text/plain": [
       "   Population  Median Age  Unemployment Rate  Median Income  Poverty Rate\n",
       "0      840562        35.6                5.1            7.8          26.5\n",
       "1      913161        37.5                4.0            6.2          54.5\n",
       "2      768917        33.0                6.6           15.2          24.5\n",
       "3      710626        42.1                3.1            4.6          53.2\n",
       "4      791257        38.3                3.5            8.1          47.9"
      ]
     },
     "execution_count": 60,
     "metadata": {},
     "output_type": "execute_result"
    }
   ],
   "source": [
    "# creating X\n",
    "features = ['Population', 'Median Age', 'Unemployment Rate', 'Median Income', 'Poverty Rate']\n",
    "X = all_data[features]\n",
    "X.head()"
   ]
  },
  {
   "cell_type": "markdown",
   "metadata": {},
   "source": [
    "### Improved Random Forest Model"
   ]
  },
  {
   "cell_type": "markdown",
   "metadata": {},
   "source": [
    "#### Initalize data splits and model"
   ]
  },
  {
   "cell_type": "code",
   "execution_count": 61,
   "metadata": {},
   "outputs": [],
   "source": [
    "X_train, X_test, y_train, y_test = train_test_split(X, y, test_size=.25, random_state = 42)\n",
    "rf = RandomForestRegressor()"
   ]
  },
  {
   "cell_type": "markdown",
   "metadata": {},
   "source": [
    "#### List of parameters"
   ]
  },
  {
   "cell_type": "code",
   "execution_count": 62,
   "metadata": {},
   "outputs": [
    {
     "name": "stdout",
     "output_type": "stream",
     "text": [
      "Parameters in use:\n",
      "\n",
      "{'bootstrap': True,\n",
      " 'ccp_alpha': 0.0,\n",
      " 'criterion': 'squared_error',\n",
      " 'max_depth': None,\n",
      " 'max_features': 'auto',\n",
      " 'max_leaf_nodes': None,\n",
      " 'max_samples': None,\n",
      " 'min_impurity_decrease': 0.0,\n",
      " 'min_samples_leaf': 1,\n",
      " 'min_samples_split': 2,\n",
      " 'min_weight_fraction_leaf': 0.0,\n",
      " 'n_estimators': 100,\n",
      " 'n_jobs': None,\n",
      " 'oob_score': False,\n",
      " 'random_state': None,\n",
      " 'verbose': 0,\n",
      " 'warm_start': False}\n"
     ]
    }
   ],
   "source": [
    "from pprint import pprint\n",
    "\n",
    "print('Parameters in use:\\n')\n",
    "pprint(rf.get_params())"
   ]
  },
  {
   "cell_type": "markdown",
   "metadata": {},
   "source": [
    "#### Hyperparameter grid values"
   ]
  },
  {
   "cell_type": "code",
   "execution_count": 63,
   "metadata": {},
   "outputs": [],
   "source": [
    "from sklearn.model_selection import RandomizedSearchCV\n",
    "\n",
    "# tree amounts\n",
    "n_estimators = [int(x) for x in np.linspace(start = 200, stop = 2000, num = 10)]\n",
    "# features to consider at each split\n",
    "max_features = ['auto', 'sqrt']\n",
    "# max levels in tree\n",
    "max_depth = [int(x) for x in np.linspace(10, 110, num = 11)]\n",
    "max_depth.append(None) # got to consider none\n",
    "# samples to split a node\n",
    "min_samples_split = [2, 5, 10]\n",
    "# samples at each leaf node\n",
    "min_samples_leaf = [1, 2, 4]\n",
    "# method of selecting samples\n",
    "bootstrap = [True, False]"
   ]
  },
  {
   "cell_type": "markdown",
   "metadata": {},
   "source": [
    "#### Creating random grid to use in tuning with k-fold cross validation"
   ]
  },
  {
   "cell_type": "code",
   "execution_count": 64,
   "metadata": {},
   "outputs": [
    {
     "name": "stdout",
     "output_type": "stream",
     "text": [
      "{'bootstrap': [True, False],\n",
      " 'max_depth': [10, 20, 30, 40, 50, 60, 70, 80, 90, 100, 110, None],\n",
      " 'max_features': ['auto', 'sqrt'],\n",
      " 'min_samples_leaf': [1, 2, 4],\n",
      " 'min_samples_split': [2, 5, 10],\n",
      " 'n_estimators': [200, 400, 600, 800, 1000, 1200, 1400, 1600, 1800, 2000]}\n"
     ]
    }
   ],
   "source": [
    "random_grid = {'n_estimators': n_estimators,\n",
    "               'max_features': max_features,\n",
    "               'max_depth': max_depth,\n",
    "               'min_samples_split': min_samples_split,\n",
    "               'min_samples_leaf': min_samples_leaf,\n",
    "               'bootstrap': bootstrap}\n",
    "               \n",
    "pprint(random_grid)"
   ]
  },
  {
   "cell_type": "code",
   "execution_count": 65,
   "metadata": {},
   "outputs": [
    {
     "name": "stdout",
     "output_type": "stream",
     "text": [
      "Fitting 5 folds for each of 150 candidates, totalling 750 fits\n"
     ]
    },
    {
     "data": {
      "text/plain": [
       "{'n_estimators': 400,\n",
       " 'min_samples_split': 10,\n",
       " 'min_samples_leaf': 4,\n",
       " 'max_features': 'auto',\n",
       " 'max_depth': 70,\n",
       " 'bootstrap': True}"
      ]
     },
     "execution_count": 65,
     "metadata": {},
     "output_type": "execute_result"
    }
   ],
   "source": [
    "rf_random = RandomizedSearchCV(estimator = rf, param_distributions = random_grid, n_iter = 150, cv = 5, verbose = 2, random_state = 42, n_jobs = -1) \n",
    "rf_random.fit(X_train, y_train)\n",
    "rf_random.best_params_"
   ]
  },
  {
   "cell_type": "markdown",
   "metadata": {},
   "source": [
    "#### Evaluating the results of k fold cross validation"
   ]
  },
  {
   "cell_type": "code",
   "execution_count": 80,
   "metadata": {},
   "outputs": [],
   "source": [
    "def evaluate(model, X_test, y_test):\n",
    "    predictions = model.predict(X_test)\n",
    "    errors = abs(predictions - y_test)\n",
    "    mape = 100 * np.mean(errors / y_test)\n",
    "    accuracy = 100 - mape\n",
    "    print('Model Performance')\n",
    "    print('Average Error: {:0.4f} degrees.'.format(np.mean(errors)))\n",
    "    print('Accuracy = {:0.2f}%.'.format(accuracy))\n",
    "    \n",
    "    return accuracy"
   ]
  },
  {
   "cell_type": "code",
   "execution_count": 81,
   "metadata": {},
   "outputs": [
    {
     "name": "stdout",
     "output_type": "stream",
     "text": [
      "Model Performance\n",
      "Average Error: 96124.5000 degrees.\n",
      "Accuracy = 66.15%.\n"
     ]
    }
   ],
   "source": [
    "base_model = RandomForestRegressor(random_state = 42)\n",
    "base_model.fit(X_train, y_train)\n",
    "base_accuracy = evaluate(base_model, X_test, y_test)"
   ]
  },
  {
   "cell_type": "code",
   "execution_count": 82,
   "metadata": {},
   "outputs": [
    {
     "name": "stdout",
     "output_type": "stream",
     "text": [
      "Model Performance\n",
      "Average Error: 96124.5000 degrees.\n",
      "Accuracy = 66.15%.\n"
     ]
    }
   ],
   "source": [
    "refined_model = RandomForestRegressor(max_depth=70, min_samples_leaf=4, min_samples_split=10, n_estimators=400, random_state=42)\n",
    "refined_model.fit(X_train, y_train)\n",
    "refined_accuracy = evaluate(base_model, X_test, y_test)"
   ]
  },
  {
   "cell_type": "code",
   "execution_count": 83,
   "metadata": {},
   "outputs": [
    {
     "name": "stdout",
     "output_type": "stream",
     "text": [
      "Improvement of 0.00%.\n"
     ]
    }
   ],
   "source": [
    "print('Improvement of {:0.2f}%.'.format( 100 * (refined_accuracy - base_accuracy) / base_accuracy))"
   ]
  },
  {
   "cell_type": "markdown",
   "metadata": {},
   "source": [
    "#### Fitting to full data"
   ]
  },
  {
   "cell_type": "code",
   "execution_count": 84,
   "metadata": {},
   "outputs": [
    {
     "data": {
      "text/plain": [
       "RandomForestRegressor(max_depth=70, min_samples_leaf=4, min_samples_split=10,\n",
       "                      n_estimators=400, random_state=42)"
      ]
     },
     "execution_count": 84,
     "metadata": {},
     "output_type": "execute_result"
    }
   ],
   "source": [
    "final_model = RandomForestRegressor(max_depth=70, min_samples_leaf=4, min_samples_split=10, n_estimators=400, random_state=42)\n",
    "final_model.fit(X, y)"
   ]
  },
  {
   "cell_type": "markdown",
   "metadata": {},
   "source": [
    "### Predicting competition data"
   ]
  },
  {
   "cell_type": "code",
   "execution_count": 85,
   "metadata": {},
   "outputs": [
    {
     "data": {
      "text/html": [
       "<div>\n",
       "<style scoped>\n",
       "    .dataframe tbody tr th:only-of-type {\n",
       "        vertical-align: middle;\n",
       "    }\n",
       "\n",
       "    .dataframe tbody tr th {\n",
       "        vertical-align: top;\n",
       "    }\n",
       "\n",
       "    .dataframe thead th {\n",
       "        text-align: right;\n",
       "    }\n",
       "</style>\n",
       "<table border=\"1\" class=\"dataframe\">\n",
       "  <thead>\n",
       "    <tr style=\"text-align: right;\">\n",
       "      <th></th>\n",
       "      <th>ID</th>\n",
       "      <th>Population</th>\n",
       "      <th>Median Age</th>\n",
       "      <th>Unemployment Rate</th>\n",
       "      <th>Median Income</th>\n",
       "      <th>Poverty Rate</th>\n",
       "    </tr>\n",
       "  </thead>\n",
       "  <tbody>\n",
       "    <tr>\n",
       "      <th>0</th>\n",
       "      <td>TX35</td>\n",
       "      <td>857654</td>\n",
       "      <td>33.0</td>\n",
       "      <td>4.1</td>\n",
       "      <td>18.4</td>\n",
       "      <td>25.2</td>\n",
       "    </tr>\n",
       "    <tr>\n",
       "      <th>1</th>\n",
       "      <td>PR16</td>\n",
       "      <td>678333</td>\n",
       "      <td>43.0</td>\n",
       "      <td>4.6</td>\n",
       "      <td>13.5</td>\n",
       "      <td>28.3</td>\n",
       "    </tr>\n",
       "    <tr>\n",
       "      <th>2</th>\n",
       "      <td>NY4</td>\n",
       "      <td>730314</td>\n",
       "      <td>40.4</td>\n",
       "      <td>3.6</td>\n",
       "      <td>5.7</td>\n",
       "      <td>43.6</td>\n",
       "    </tr>\n",
       "    <tr>\n",
       "      <th>3</th>\n",
       "      <td>OR1</td>\n",
       "      <td>858875</td>\n",
       "      <td>38.0</td>\n",
       "      <td>3.8</td>\n",
       "      <td>8.9</td>\n",
       "      <td>40.7</td>\n",
       "    </tr>\n",
       "    <tr>\n",
       "      <th>4</th>\n",
       "      <td>GA8</td>\n",
       "      <td>706237</td>\n",
       "      <td>37.6</td>\n",
       "      <td>5.3</td>\n",
       "      <td>17.3</td>\n",
       "      <td>22.7</td>\n",
       "    </tr>\n",
       "  </tbody>\n",
       "</table>\n",
       "</div>"
      ],
      "text/plain": [
       "     ID  Population  Median Age  Unemployment Rate  Median Income  \\\n",
       "0  TX35      857654        33.0                4.1           18.4   \n",
       "1  PR16      678333        43.0                4.6           13.5   \n",
       "2   NY4      730314        40.4                3.6            5.7   \n",
       "3   OR1      858875        38.0                3.8            8.9   \n",
       "4   GA8      706237        37.6                5.3           17.3   \n",
       "\n",
       "   Poverty Rate  \n",
       "0          25.2  \n",
       "1          28.3  \n",
       "2          43.6  \n",
       "3          40.7  \n",
       "4          22.7  "
      ]
     },
     "execution_count": 85,
     "metadata": {},
     "output_type": "execute_result"
    }
   ],
   "source": [
    "# reading competition data\n",
    "competition_data_path = 'C:\\\\Users\\\\advay\\\\OneDrive\\\\Coding\\\\VSCode\\\\Python\\\\AIS Summer Comp 2022\\\\evaluation_input.csv'\n",
    "competition_data = pd.read_csv(competition_data_path)\n",
    "competition_data.head()"
   ]
  },
  {
   "cell_type": "code",
   "execution_count": 86,
   "metadata": {},
   "outputs": [
    {
     "data": {
      "text/html": [
       "<div>\n",
       "<style scoped>\n",
       "    .dataframe tbody tr th:only-of-type {\n",
       "        vertical-align: middle;\n",
       "    }\n",
       "\n",
       "    .dataframe tbody tr th {\n",
       "        vertical-align: top;\n",
       "    }\n",
       "\n",
       "    .dataframe thead th {\n",
       "        text-align: right;\n",
       "    }\n",
       "</style>\n",
       "<table border=\"1\" class=\"dataframe\">\n",
       "  <thead>\n",
       "    <tr style=\"text-align: right;\">\n",
       "      <th></th>\n",
       "      <th>Population</th>\n",
       "      <th>Median Age</th>\n",
       "      <th>Unemployment Rate</th>\n",
       "      <th>Median Income</th>\n",
       "      <th>Poverty Rate</th>\n",
       "    </tr>\n",
       "  </thead>\n",
       "  <tbody>\n",
       "    <tr>\n",
       "      <th>0</th>\n",
       "      <td>857654</td>\n",
       "      <td>33.0</td>\n",
       "      <td>4.1</td>\n",
       "      <td>18.4</td>\n",
       "      <td>25.2</td>\n",
       "    </tr>\n",
       "    <tr>\n",
       "      <th>1</th>\n",
       "      <td>678333</td>\n",
       "      <td>43.0</td>\n",
       "      <td>4.6</td>\n",
       "      <td>13.5</td>\n",
       "      <td>28.3</td>\n",
       "    </tr>\n",
       "    <tr>\n",
       "      <th>2</th>\n",
       "      <td>730314</td>\n",
       "      <td>40.4</td>\n",
       "      <td>3.6</td>\n",
       "      <td>5.7</td>\n",
       "      <td>43.6</td>\n",
       "    </tr>\n",
       "    <tr>\n",
       "      <th>3</th>\n",
       "      <td>858875</td>\n",
       "      <td>38.0</td>\n",
       "      <td>3.8</td>\n",
       "      <td>8.9</td>\n",
       "      <td>40.7</td>\n",
       "    </tr>\n",
       "    <tr>\n",
       "      <th>4</th>\n",
       "      <td>706237</td>\n",
       "      <td>37.6</td>\n",
       "      <td>5.3</td>\n",
       "      <td>17.3</td>\n",
       "      <td>22.7</td>\n",
       "    </tr>\n",
       "  </tbody>\n",
       "</table>\n",
       "</div>"
      ],
      "text/plain": [
       "   Population  Median Age  Unemployment Rate  Median Income  Poverty Rate\n",
       "0      857654        33.0                4.1           18.4          25.2\n",
       "1      678333        43.0                4.6           13.5          28.3\n",
       "2      730314        40.4                3.6            5.7          43.6\n",
       "3      858875        38.0                3.8            8.9          40.7\n",
       "4      706237        37.6                5.3           17.3          22.7"
      ]
     },
     "execution_count": 86,
     "metadata": {},
     "output_type": "execute_result"
    }
   ],
   "source": [
    "# creating competition X\n",
    "competition_X = competition_data[features]\n",
    "competition_X.head()"
   ]
  },
  {
   "cell_type": "code",
   "execution_count": 87,
   "metadata": {},
   "outputs": [
    {
     "name": "stdout",
     "output_type": "stream",
     "text": [
      "[193249.51548148 237721.40803926 478975.69949667 320124.80892851\n",
      " 156849.2338875  200951.62058296 172187.55201298 338899.48185265\n",
      " 417914.72407568 129995.75902112 429584.71022842 407015.34672895\n",
      " 441886.89403398 323884.80216579 178634.79749317 170749.89739273\n",
      " 462490.74561248 221874.50560001 208878.68392856 218366.62476213\n",
      " 275369.39844947 166813.1411724  197437.00200655 456215.7190537\n",
      " 536185.65971929 932533.60078622 591783.80312667 435653.09218044\n",
      " 562563.77274085 246985.03245629 247057.15363913 546137.32752482\n",
      " 184261.63426294 163501.48447158 189730.96670745 307633.8027697\n",
      " 188746.24041595 354539.23847177 222993.21902552 271598.80927795\n",
      " 204064.65599373 132491.27227859 213727.3281055  460581.00875062\n",
      " 280544.81405032 483254.25870245 304319.25556382 334564.53386097\n",
      " 383504.4219283  131863.6669991  212137.97664783 963122.4619854\n",
      " 382516.23433878 182382.40622362 245479.2448357  204421.47640075\n",
      " 314923.00538692 178016.82106963 367209.62948284 224186.02102753\n",
      " 459397.59793977 348434.2199254  410738.22673225 183324.49733606\n",
      " 156001.40636255 550447.28642975 208298.74864479 470503.55016216\n",
      " 423638.97384119 419167.31401097 242378.44171877 198200.66517912\n",
      " 258557.13160201 151613.03985324 190632.74258978 389064.94553489\n",
      " 250356.46865041 159285.8229673  164404.20134102 191146.00886152\n",
      " 157279.8086059  162078.62018042 154196.67823336 379839.12297782\n",
      " 651526.38075962 253464.80662351 188114.68850523 373904.38415418\n",
      " 205113.32747849 281649.32721004 153401.93942546 352447.43863144\n",
      " 350225.74002301 395553.51887154 165435.64836949 161487.92569273\n",
      " 380633.44635416 166142.93264661 302882.32955798 267079.03933474\n",
      " 247253.81564134 469483.89056553 138975.74060144 152696.54284938\n",
      " 306600.30767127 252376.53442506 499303.90374438 151171.52368864\n",
      " 154355.31449073 229375.92890178 373334.45947825 226384.22517493\n",
      " 252405.46034583 203189.53114311 116866.41653628 201316.66142262\n",
      " 155228.42187009 401102.30474626 370818.90050505 210638.0772841\n",
      " 209648.58035374 615498.70970796 198927.29459385 243095.47848142\n",
      " 235511.59605505 449151.06205017 475382.13548928 243482.06622351\n",
      " 617724.94667579 359770.39578985 193921.1037414  494968.09183351\n",
      " 164168.77502659 555211.65277564 268953.23117653 180368.43813666\n",
      " 290028.60816624 465512.643472   165474.69225747 350819.98047978\n",
      " 961324.05723394 247795.63645798 599189.34372177 218913.68888774\n",
      " 375881.99953246 287504.57013833 164839.00717251 379260.97538308\n",
      " 544199.40076333 187880.41416821 267488.93478009 221618.09005507\n",
      " 292625.36474662 401070.25228026 202926.23105453 209055.60356803\n",
      " 582496.2188964  342173.05105945 159602.97509983 355141.42410776\n",
      " 315985.93337935 343972.38861413 427472.25172644 373864.80159917\n",
      " 252180.99794531 181976.70327    190365.42685328 169005.01387653\n",
      " 386762.66707672 216850.55682014 482403.01567417 218891.62392636\n",
      " 264490.98793469 460669.09948378 172178.86158268 196711.32846684\n",
      " 230667.90491979 376753.3978772  334811.98779707 420066.92332797\n",
      " 233346.13308436 262009.39556379 198477.24120733 368999.42582098\n",
      " 173068.09074474 259110.67980318 206157.26581578 258672.34343459\n",
      " 169885.30674171 450016.10191004 374091.45401046 388587.49784324\n",
      " 253618.10815485 250187.30512629 431692.47872922 980731.31683229\n",
      " 161855.31179964 164792.21359763 456702.26201695 353330.5007479\n",
      " 212639.05620409 546777.91970766 344602.48412197 436163.14890461\n",
      " 531649.26015957 264708.48133647 351397.00484583 159750.55058126\n",
      " 153277.96682369 163823.11686957 469015.26116659 249545.03741835]\n"
     ]
    }
   ],
   "source": [
    "# competition predictions\n",
    "competition_preds = final_model.predict(competition_X)\n",
    "print(competition_preds)"
   ]
  },
  {
   "cell_type": "markdown",
   "metadata": {},
   "source": [
    "### Generating submission"
   ]
  },
  {
   "cell_type": "code",
   "execution_count": 88,
   "metadata": {},
   "outputs": [],
   "source": [
    "# Creating and outputting DataFrame\n",
    "output = pd.DataFrame({'ID': competition_data.ID, 'Median House Price': competition_preds})\n",
    "output.to_csv('Vyas_Advay_answer.csv', index=False)"
   ]
  }
 ],
 "metadata": {
  "kernelspec": {
   "display_name": "Python 3.9.12 ('base')",
   "language": "python",
   "name": "python3"
  },
  "language_info": {
   "codemirror_mode": {
    "name": "ipython",
    "version": 3
   },
   "file_extension": ".py",
   "mimetype": "text/x-python",
   "name": "python",
   "nbconvert_exporter": "python",
   "pygments_lexer": "ipython3",
   "version": "3.9.12"
  },
  "orig_nbformat": 4,
  "vscode": {
   "interpreter": {
    "hash": "b0d8b00385fed0be2ecd2298f954d5f87042379fb0759f0fcec831b5194ef8ba"
   }
  }
 },
 "nbformat": 4,
 "nbformat_minor": 2
}
