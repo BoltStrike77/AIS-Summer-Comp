{
 "cells": [
  {
   "cell_type": "markdown",
   "metadata": {},
   "source": [
    "# AIS Summer Comp (Advay Vyas)"
   ]
  },
  {
   "cell_type": "markdown",
   "metadata": {},
   "source": [
    "### Imports and data"
   ]
  },
  {
   "cell_type": "code",
   "execution_count": 552,
   "metadata": {},
   "outputs": [],
   "source": [
    "# imports\n",
    "from sklearn.metrics import mean_squared_error\n",
    "from sklearn.model_selection import train_test_split\n",
    "from sklearn.model_selection import GridSearchCV\n",
    "from sklearn.feature_selection import mutual_info_regression\n",
    "from sklearn.ensemble import RandomForestRegressor\n",
    "from sklearn import preprocessing\n",
    "from sklearn.pipeline import make_pipeline\n",
    "from sklearn.preprocessing import OneHotEncoder\n",
    "from sklearn.compose import ColumnTransformer\n",
    "from sklearn.pipeline import Pipeline\n",
    "import pandas as pd\n",
    "import numpy as np\n",
    "import seaborn as sns\n",
    "import pprint\n",
    "import matplotlib.pyplot as plt\n",
    "from math import sqrt"
   ]
  },
  {
   "cell_type": "code",
   "execution_count": 553,
   "metadata": {},
   "outputs": [
    {
     "data": {
      "text/html": [
       "<div>\n",
       "<style scoped>\n",
       "    .dataframe tbody tr th:only-of-type {\n",
       "        vertical-align: middle;\n",
       "    }\n",
       "\n",
       "    .dataframe tbody tr th {\n",
       "        vertical-align: top;\n",
       "    }\n",
       "\n",
       "    .dataframe thead th {\n",
       "        text-align: right;\n",
       "    }\n",
       "</style>\n",
       "<table border=\"1\" class=\"dataframe\">\n",
       "  <thead>\n",
       "    <tr style=\"text-align: right;\">\n",
       "      <th></th>\n",
       "      <th>ID</th>\n",
       "      <th>Population</th>\n",
       "      <th>Median Age</th>\n",
       "      <th>Unemployment Rate</th>\n",
       "      <th>Median Income</th>\n",
       "      <th>Poverty Rate</th>\n",
       "      <th>Median House Price</th>\n",
       "    </tr>\n",
       "  </thead>\n",
       "  <tbody>\n",
       "    <tr>\n",
       "      <th>0</th>\n",
       "      <td>CA42</td>\n",
       "      <td>840562</td>\n",
       "      <td>35.6</td>\n",
       "      <td>5.1</td>\n",
       "      <td>7.8</td>\n",
       "      <td>26.5</td>\n",
       "      <td>455800</td>\n",
       "    </tr>\n",
       "    <tr>\n",
       "      <th>1</th>\n",
       "      <td>TX3</td>\n",
       "      <td>913161</td>\n",
       "      <td>37.5</td>\n",
       "      <td>4.0</td>\n",
       "      <td>6.2</td>\n",
       "      <td>54.5</td>\n",
       "      <td>365700</td>\n",
       "    </tr>\n",
       "    <tr>\n",
       "      <th>2</th>\n",
       "      <td>CA22</td>\n",
       "      <td>768917</td>\n",
       "      <td>33.0</td>\n",
       "      <td>6.6</td>\n",
       "      <td>15.2</td>\n",
       "      <td>24.5</td>\n",
       "      <td>298300</td>\n",
       "    </tr>\n",
       "    <tr>\n",
       "      <th>3</th>\n",
       "      <td>IL6</td>\n",
       "      <td>710626</td>\n",
       "      <td>42.1</td>\n",
       "      <td>3.1</td>\n",
       "      <td>4.6</td>\n",
       "      <td>53.2</td>\n",
       "      <td>334200</td>\n",
       "    </tr>\n",
       "    <tr>\n",
       "      <th>4</th>\n",
       "      <td>IN5</td>\n",
       "      <td>791257</td>\n",
       "      <td>38.3</td>\n",
       "      <td>3.5</td>\n",
       "      <td>8.1</td>\n",
       "      <td>47.9</td>\n",
       "      <td>219100</td>\n",
       "    </tr>\n",
       "  </tbody>\n",
       "</table>\n",
       "</div>"
      ],
      "text/plain": [
       "     ID  Population  Median Age  Unemployment Rate  Median Income  \\\n",
       "0  CA42      840562        35.6                5.1            7.8   \n",
       "1   TX3      913161        37.5                4.0            6.2   \n",
       "2  CA22      768917        33.0                6.6           15.2   \n",
       "3   IL6      710626        42.1                3.1            4.6   \n",
       "4   IN5      791257        38.3                3.5            8.1   \n",
       "\n",
       "   Poverty Rate  Median House Price  \n",
       "0          26.5              455800  \n",
       "1          54.5              365700  \n",
       "2          24.5              298300  \n",
       "3          53.2              334200  \n",
       "4          47.9              219100  "
      ]
     },
     "execution_count": 553,
     "metadata": {},
     "output_type": "execute_result"
    }
   ],
   "source": [
    "# load data\n",
    "train_file_path = 'C:\\\\Users\\\\advay\\\\OneDrive\\\\Desktop\\\\Coding\\\\VSCode\\\\Python\\\\AIS Summer Comp 2022\\\\train.csv'\n",
    "all_data = pd.read_csv(train_file_path)\n",
    "all_data.head()"
   ]
  },
  {
   "cell_type": "code",
   "execution_count": 554,
   "metadata": {},
   "outputs": [
    {
     "data": {
      "text/plain": [
       "0    455800\n",
       "1    365700\n",
       "2    298300\n",
       "3    334200\n",
       "4    219100\n",
       "Name: Median House Price, dtype: int64"
      ]
     },
     "execution_count": 554,
     "metadata": {},
     "output_type": "execute_result"
    }
   ],
   "source": [
    "# get target\n",
    "y = all_data['Median House Price']\n",
    "y.head()"
   ]
  },
  {
   "cell_type": "code",
   "execution_count": 555,
   "metadata": {},
   "outputs": [
    {
     "data": {
      "text/html": [
       "<div>\n",
       "<style scoped>\n",
       "    .dataframe tbody tr th:only-of-type {\n",
       "        vertical-align: middle;\n",
       "    }\n",
       "\n",
       "    .dataframe tbody tr th {\n",
       "        vertical-align: top;\n",
       "    }\n",
       "\n",
       "    .dataframe thead th {\n",
       "        text-align: right;\n",
       "    }\n",
       "</style>\n",
       "<table border=\"1\" class=\"dataframe\">\n",
       "  <thead>\n",
       "    <tr style=\"text-align: right;\">\n",
       "      <th></th>\n",
       "      <th>Unemployment Rate</th>\n",
       "      <th>Median Income</th>\n",
       "      <th>Poverty Rate</th>\n",
       "    </tr>\n",
       "  </thead>\n",
       "  <tbody>\n",
       "    <tr>\n",
       "      <th>0</th>\n",
       "      <td>5.1</td>\n",
       "      <td>7.8</td>\n",
       "      <td>26.5</td>\n",
       "    </tr>\n",
       "    <tr>\n",
       "      <th>1</th>\n",
       "      <td>4.0</td>\n",
       "      <td>6.2</td>\n",
       "      <td>54.5</td>\n",
       "    </tr>\n",
       "    <tr>\n",
       "      <th>2</th>\n",
       "      <td>6.6</td>\n",
       "      <td>15.2</td>\n",
       "      <td>24.5</td>\n",
       "    </tr>\n",
       "    <tr>\n",
       "      <th>3</th>\n",
       "      <td>3.1</td>\n",
       "      <td>4.6</td>\n",
       "      <td>53.2</td>\n",
       "    </tr>\n",
       "    <tr>\n",
       "      <th>4</th>\n",
       "      <td>3.5</td>\n",
       "      <td>8.1</td>\n",
       "      <td>47.9</td>\n",
       "    </tr>\n",
       "  </tbody>\n",
       "</table>\n",
       "</div>"
      ],
      "text/plain": [
       "   Unemployment Rate  Median Income  Poverty Rate\n",
       "0                5.1            7.8          26.5\n",
       "1                4.0            6.2          54.5\n",
       "2                6.6           15.2          24.5\n",
       "3                3.1            4.6          53.2\n",
       "4                3.5            8.1          47.9"
      ]
     },
     "execution_count": 555,
     "metadata": {},
     "output_type": "execute_result"
    }
   ],
   "source": [
    "# creating X\n",
    "features = ['Unemployment Rate', 'Median Income', 'Poverty Rate']\n",
    "X = all_data[features]\n",
    "X.head()"
   ]
  },
  {
   "cell_type": "markdown",
   "metadata": {},
   "source": [
    "### Feature Engineering"
   ]
  },
  {
   "cell_type": "markdown",
   "metadata": {},
   "source": [
    "#### Importance"
   ]
  },
  {
   "cell_type": "code",
   "execution_count": 556,
   "metadata": {},
   "outputs": [],
   "source": [
    "# Utility functions from Tutorial\n",
    "def make_mi_scores(X, y):\n",
    "    discrete_features = [pd.api.types.is_integer_dtype(t) for t in X.dtypes]\n",
    "    mi_scores = mutual_info_regression(X, y, discrete_features=True, random_state=0)\n",
    "    mi_scores = pd.Series(mi_scores, name=\"MI Scores\", index=X.columns)\n",
    "    mi_scores = mi_scores.sort_values(ascending=False)\n",
    "    return mi_scores\n",
    "\n",
    "\n",
    "def plot_mi_scores(scores):\n",
    "    scores = scores.sort_values(ascending=True)\n",
    "    width = np.arange(len(scores))\n",
    "    ticks = list(scores.index)\n",
    "    plt.barh(width, scores)\n",
    "    plt.yticks(width, ticks)\n",
    "    plt.title(\"Mutual Information Scores\")"
   ]
  },
  {
   "cell_type": "code",
   "execution_count": 557,
   "metadata": {},
   "outputs": [
    {
     "data": {
      "image/png": "[encoded data removed]",
      "text/plain": [
       "<Figure size 1080x360 with 3 Axes>"
      ]
     },
     "metadata": {
      "needs_background": "light"
     },
     "output_type": "display_data"
    }
   ],
   "source": [
    "# seaborn plotting\n",
    "discrete_features = X.dtypes == int\n",
    "\n",
    "sns.relplot(\n",
    "    x=\"value\", y=\"Median House Price\", col=\"variable\", data=all_data.melt(id_vars=\"Median House Price\", \n",
    "        value_vars=features), facet_kws=dict(sharex=False),\n",
    ");"
   ]
  },
  {
   "cell_type": "markdown",
   "metadata": {},
   "source": [
    "### Refined RandomForestRegressor"
   ]
  },
  {
   "cell_type": "markdown",
   "metadata": {},
   "source": [
    "#### Data distribution"
   ]
  },
  {
   "cell_type": "code",
   "execution_count": 558,
   "metadata": {},
   "outputs": [],
   "source": [
    "# set up data distrubtion\n",
    "X_train, X_test, y_train, y_test = train_test_split(X, y, test_size=.25, random_state = 42)"
   ]
  },
  {
   "cell_type": "code",
   "execution_count": 559,
   "metadata": {},
   "outputs": [],
   "source": [
    "# scaling train test split\n",
    "scaler = preprocessing.StandardScaler().fit(X_train)\n",
    "X_train_scaled = scaler.transform(X_train)\n",
    "X_test_scaled = scaler.transform(X_test)"
   ]
  },
  {
   "cell_type": "markdown",
   "metadata": {},
   "source": [
    "#### Evaluating the results"
   ]
  },
  {
   "cell_type": "code",
   "execution_count": 560,
   "metadata": {},
   "outputs": [],
   "source": [
    "# evaluating function\n",
    "def evaluate(model, X_test, y_test):\n",
    "    predictions = model.predict(X_test)\n",
    "    error = sqrt(mean_squared_error(y_test, predictions))\n",
    "    print(error)\n",
    "\n",
    "    return error"
   ]
  },
  {
   "cell_type": "code",
   "execution_count": 561,
   "metadata": {},
   "outputs": [
    {
     "name": "stdout",
     "output_type": "stream",
     "text": [
      "RMSE (lower is better)\n",
      "155845.4314722764\n"
     ]
    }
   ],
   "source": [
    "# evaluating model\n",
    "model = RandomForestRegressor(random_state = 42, criterion = 'squared_error', max_features = None)\n",
    "model.fit(X_train, y_train)\n",
    "print('RMSE (lower is better)')\n",
    "base_accuracy = evaluate(model, X_test, y_test)"
   ]
  },
  {
   "cell_type": "markdown",
   "metadata": {},
   "source": [
    "### Predicting competition data"
   ]
  },
  {
   "cell_type": "code",
   "execution_count": 562,
   "metadata": {},
   "outputs": [
    {
     "data": {
      "text/html": [
       "<div>\n",
       "<style scoped>\n",
       "    .dataframe tbody tr th:only-of-type {\n",
       "        vertical-align: middle;\n",
       "    }\n",
       "\n",
       "    .dataframe tbody tr th {\n",
       "        vertical-align: top;\n",
       "    }\n",
       "\n",
       "    .dataframe thead th {\n",
       "        text-align: right;\n",
       "    }\n",
       "</style>\n",
       "<table border=\"1\" class=\"dataframe\">\n",
       "  <thead>\n",
       "    <tr style=\"text-align: right;\">\n",
       "      <th></th>\n",
       "      <th>ID</th>\n",
       "      <th>Population</th>\n",
       "      <th>Median Age</th>\n",
       "      <th>Unemployment Rate</th>\n",
       "      <th>Median Income</th>\n",
       "      <th>Poverty Rate</th>\n",
       "    </tr>\n",
       "  </thead>\n",
       "  <tbody>\n",
       "    <tr>\n",
       "      <th>0</th>\n",
       "      <td>TX35</td>\n",
       "      <td>857654</td>\n",
       "      <td>33.0</td>\n",
       "      <td>4.1</td>\n",
       "      <td>18.4</td>\n",
       "      <td>25.2</td>\n",
       "    </tr>\n",
       "    <tr>\n",
       "      <th>1</th>\n",
       "      <td>PR16</td>\n",
       "      <td>678333</td>\n",
       "      <td>43.0</td>\n",
       "      <td>4.6</td>\n",
       "      <td>13.5</td>\n",
       "      <td>28.3</td>\n",
       "    </tr>\n",
       "    <tr>\n",
       "      <th>2</th>\n",
       "      <td>NY4</td>\n",
       "      <td>730314</td>\n",
       "      <td>40.4</td>\n",
       "      <td>3.6</td>\n",
       "      <td>5.7</td>\n",
       "      <td>43.6</td>\n",
       "    </tr>\n",
       "    <tr>\n",
       "      <th>3</th>\n",
       "      <td>OR1</td>\n",
       "      <td>858875</td>\n",
       "      <td>38.0</td>\n",
       "      <td>3.8</td>\n",
       "      <td>8.9</td>\n",
       "      <td>40.7</td>\n",
       "    </tr>\n",
       "    <tr>\n",
       "      <th>4</th>\n",
       "      <td>GA8</td>\n",
       "      <td>706237</td>\n",
       "      <td>37.6</td>\n",
       "      <td>5.3</td>\n",
       "      <td>17.3</td>\n",
       "      <td>22.7</td>\n",
       "    </tr>\n",
       "  </tbody>\n",
       "</table>\n",
       "</div>"
      ],
      "text/plain": [
       "     ID  Population  Median Age  Unemployment Rate  Median Income  \\\n",
       "0  TX35      857654        33.0                4.1           18.4   \n",
       "1  PR16      678333        43.0                4.6           13.5   \n",
       "2   NY4      730314        40.4                3.6            5.7   \n",
       "3   OR1      858875        38.0                3.8            8.9   \n",
       "4   GA8      706237        37.6                5.3           17.3   \n",
       "\n",
       "   Poverty Rate  \n",
       "0          25.2  \n",
       "1          28.3  \n",
       "2          43.6  \n",
       "3          40.7  \n",
       "4          22.7  "
      ]
     },
     "execution_count": 562,
     "metadata": {},
     "output_type": "execute_result"
    }
   ],
   "source": [
    "# reading competition data\n",
    "competition_data_path = 'C:\\\\Users\\\\advay\\\\OneDrive\\\\Desktop\\\\Coding\\\\VSCode\\\\Python\\\\AIS Summer Comp 2022\\\\evaluation_input.csv'\n",
    "competition_data = pd.read_csv(competition_data_path)\n",
    "competition_data.head()"
   ]
  },
  {
   "cell_type": "code",
   "execution_count": 563,
   "metadata": {},
   "outputs": [
    {
     "data": {
      "text/html": [
       "<div>\n",
       "<style scoped>\n",
       "    .dataframe tbody tr th:only-of-type {\n",
       "        vertical-align: middle;\n",
       "    }\n",
       "\n",
       "    .dataframe tbody tr th {\n",
       "        vertical-align: top;\n",
       "    }\n",
       "\n",
       "    .dataframe thead th {\n",
       "        text-align: right;\n",
       "    }\n",
       "</style>\n",
       "<table border=\"1\" class=\"dataframe\">\n",
       "  <thead>\n",
       "    <tr style=\"text-align: right;\">\n",
       "      <th></th>\n",
       "      <th>Unemployment Rate</th>\n",
       "      <th>Median Income</th>\n",
       "      <th>Poverty Rate</th>\n",
       "    </tr>\n",
       "  </thead>\n",
       "  <tbody>\n",
       "    <tr>\n",
       "      <th>0</th>\n",
       "      <td>4.1</td>\n",
       "      <td>18.4</td>\n",
       "      <td>25.2</td>\n",
       "    </tr>\n",
       "    <tr>\n",
       "      <th>1</th>\n",
       "      <td>4.6</td>\n",
       "      <td>13.5</td>\n",
       "      <td>28.3</td>\n",
       "    </tr>\n",
       "    <tr>\n",
       "      <th>2</th>\n",
       "      <td>3.6</td>\n",
       "      <td>5.7</td>\n",
       "      <td>43.6</td>\n",
       "    </tr>\n",
       "    <tr>\n",
       "      <th>3</th>\n",
       "      <td>3.8</td>\n",
       "      <td>8.9</td>\n",
       "      <td>40.7</td>\n",
       "    </tr>\n",
       "    <tr>\n",
       "      <th>4</th>\n",
       "      <td>5.3</td>\n",
       "      <td>17.3</td>\n",
       "      <td>22.7</td>\n",
       "    </tr>\n",
       "  </tbody>\n",
       "</table>\n",
       "</div>"
      ],
      "text/plain": [
       "   Unemployment Rate  Median Income  Poverty Rate\n",
       "0                4.1           18.4          25.2\n",
       "1                4.6           13.5          28.3\n",
       "2                3.6            5.7          43.6\n",
       "3                3.8            8.9          40.7\n",
       "4                5.3           17.3          22.7"
      ]
     },
     "execution_count": 563,
     "metadata": {},
     "output_type": "execute_result"
    }
   ],
   "source": [
    "# creating competition X\n",
    "competition_X = competition_data[features]\n",
    "competition_X.head()"
   ]
  },
  {
   "cell_type": "code",
   "execution_count": 564,
   "metadata": {},
   "outputs": [
    {
     "name": "stdout",
     "output_type": "stream",
     "text": [
      "array([[-3.81399923e-01,  1.33522784e+00, -7.16562917e-01],\n",
      "       [-3.37245146e-02,  2.80817458e-01, -4.44038681e-01],\n",
      "       [-7.29075332e-01, -1.39763172e+00,  9.01000286e-01],\n",
      "       [-5.90005168e-01, -7.09037183e-01,  6.46058260e-01],\n",
      "       [ 4.53021057e-01,  1.09852347e+00, -9.36340526e-01],\n",
      "       [-5.90005168e-01, -3.64739917e-01, -5.14367516e-01],\n",
      "       [-1.28535599e+00, -2.57147021e-01, -6.98980708e-01],\n",
      "       [-1.14628582e+00, -7.09037183e-01,  6.28476051e-01],\n",
      "       [ 4.53021057e-01, -1.71072704e-01,  2.41667459e-01],\n",
      "       [ 8.70231548e-01,  8.83337674e-01, -1.15611813e+00],\n",
      "       [ 3.58105671e-02,  1.03396773e+00,  1.20868894e+00],\n",
      "       [-5.20470087e-01, -9.24222975e-01,  3.03205190e-01],\n",
      "       [ 7.31161384e-01, -1.06516967e-01,  6.37267155e-01],\n",
      "       [-3.11864841e-01, -8.81185816e-01,  7.07595990e-01],\n",
      "       [-3.81399923e-01,  1.51705983e-01, -8.39638378e-01],\n",
      "       [ 1.00930171e+00,  2.21748958e+00, -1.23523807e+00],\n",
      "       [ 4.53021057e-01,  4.09928933e-01,  5.84520529e-01],\n",
      "       [-3.37245146e-02,  2.80817458e-01,  6.58453717e-02],\n",
      "       [-3.81399923e-01,  1.51705983e-01, -4.35247577e-01],\n",
      "       [-4.50935005e-01,  1.30187404e-01, -2.20656720e-02],\n",
      "       [ 1.07883679e+00,  1.80863658e+00, -6.02278560e-01],\n",
      "       [ 3.83485976e-01,  1.57193221e+00, -8.83593900e-01],\n",
      "       [-3.11864841e-01,  6.56316664e-02, -6.72607395e-01],\n",
      "       [ 3.58105671e-02, -9.67260133e-01,  1.65703526e+00],\n",
      "       [-3.81399923e-01, -9.45741554e-01,  9.53746912e-01],\n",
      "       [-1.00721566e+00, -9.67260133e-01,  2.35153251e+00],\n",
      "       [ 5.92091221e-01, -5.58407129e-01,  1.69219968e+00],\n",
      "       [ 3.58105671e-02, -1.35459456e+00,  2.32876355e-01],\n",
      "       [-9.37680577e-01, -3.21702758e-01,  9.97702434e-01],\n",
      "       [-1.42442615e+00, -1.35459456e+00, -6.60211938e-02],\n",
      "       [ 1.14837187e+00,  9.47893412e-01, -7.34145125e-01],\n",
      "       [-9.37680577e-01, -1.24700166e+00,  1.33176440e+00],\n",
      "       [-1.03259596e-01, -7.09037183e-01, -7.51727334e-01],\n",
      "       [-7.29075332e-01, -5.15369971e-01, -1.05941599e+00],\n",
      "       [ 1.05345649e-01,  4.41130873e-02, -6.19860769e-01],\n",
      "       [ 3.44302957e+00,  2.32508248e+00, -1.77149544e+00],\n",
      "       [-7.98610413e-01,  4.41130873e-02, -7.34145125e-01],\n",
      "       [-1.00721566e+00, -1.03181587e+00,  1.32297330e+00],\n",
      "       [ 4.53021057e-01,  1.20611636e+00, -3.03381012e-01],\n",
      "       [-1.03259596e-01, -6.66000025e-01, -1.62723342e-01],\n",
      "       [-1.14628582e+00, -1.71072704e-01, -3.82500951e-01],\n",
      "       [ 2.44415812e-01,  6.03596145e-01, -9.45131630e-01],\n",
      "       [-8.68145495e-01,  1.08668825e-01, -1.89096655e-01],\n",
      "       [-5.20470087e-01, -4.50814233e-01,  4.17489546e-01],\n",
      "       [ 3.58105671e-02, -1.28035546e-01,  1.53756415e-01],\n",
      "       [-1.28535599e+00, -1.87104046e+00,  2.04384385e+00],\n",
      "       [-7.98610413e-01, -5.15369971e-01,  7.51551512e-01],\n",
      "       [ 3.83485976e-01, -3.64739917e-01, -3.29754325e-01],\n",
      "       [-1.35489107e+00,  7.32707620e-01, -8.30847273e-01],\n",
      "       [-1.03259596e-01,  9.04856253e-01, -8.66011691e-01],\n",
      "       [-5.90005168e-01,  3.02336037e-01, -3.08567763e-02],\n",
      "       [-2.42329760e-01, -9.67260133e-01,  2.92295429e+00],\n",
      "       [ 1.14837187e+00,  5.60558987e-01, -6.02278560e-01],\n",
      "       [-5.90005168e-01,  1.08668825e-01, -7.51727334e-01],\n",
      "       [-4.50935005e-01, -4.29295654e-01,  2.18898499e-02],\n",
      "       [-4.50935005e-01,  2.59298879e-01, -4.26456473e-01],\n",
      "       [-5.20470087e-01, -5.36888550e-01,  6.37267155e-01],\n",
      "       [ 7.31161384e-01,  6.89670462e-01, -7.34145125e-01],\n",
      "       [ 2.05232794e+00,  1.83015516e+00, -8.04473960e-01],\n",
      "       [-1.03259596e-01,  1.07592896e-03, -1.09976716e-01],\n",
      "       [-7.98610413e-01, -9.45741554e-01,  1.39330213e+00],\n",
      "       [-8.68145495e-01, -1.48370603e+00,  1.28780888e+00],\n",
      "       [-5.20470087e-01, -7.09037183e-01,  3.91116233e-01],\n",
      "       [-1.72794678e-01,  2.25945081e-02, -6.46234082e-01],\n",
      "       [-1.03259596e-01,  1.07700489e+00, -1.00666936e+00],\n",
      "       [-3.37245146e-02,  3.88410354e-01,  6.37267155e-01],\n",
      "       [ 1.56558236e+00,  5.39040408e-01, -9.23945069e-02],\n",
      "       [ 1.00930171e+00, -3.00184179e-01,  2.41667459e-01],\n",
      "       [ 2.44415812e-01,  1.39978357e+00,  1.23506225e+00],\n",
      "       [ 1.05345649e-01,  1.30187404e-01, -5.40740829e-01],\n",
      "       [ 2.44415812e-01, -6.34798085e-02, -3.96478807e-02],\n",
      "       [-3.11864841e-01,  1.51705983e-01, -6.63816291e-01],\n",
      "       [-5.90005168e-01, -7.09037183e-01,  4.82631630e-02],\n",
      "       [ 3.58105671e-02,  6.25114724e-01, -8.30847273e-01],\n",
      "       [ 1.05345649e-01, -8.81185816e-01, -7.42936230e-01],\n",
      "       [ 8.70231548e-01,  6.25114724e-01, -9.80296048e-01],\n",
      "       [-6.59540250e-01, -9.45741554e-01, -4.48346323e-03],\n",
      "       [ 3.83485976e-01, -1.28035546e-01, -9.71504943e-01],\n",
      "       [ 3.13950894e-01,  9.26374833e-01, -9.62713839e-01],\n",
      "       [ 1.74880731e-01,  1.08668825e-01, -9.09967213e-01],\n",
      "       [-2.42329760e-01,  5.82077566e-01, -1.04183378e+00],\n",
      "       [ 1.05345649e-01,  1.24915352e+00, -1.36710464e+00],\n",
      "       [ 1.05345649e-01,  2.59298879e-01, -1.36710464e+00],\n",
      "       [-3.81399923e-01, -3.86258496e-01,  3.29578503e-01],\n",
      "       [ 1.70465253e+00,  1.61496937e+00,  1.01528464e+00],\n",
      "       [ 4.53021057e-01, -5.15369971e-01, -4.79203099e-01],\n",
      "       [ 7.31161384e-01, -1.71072704e-01, -1.07699820e+00],\n",
      "       [ 3.23442433e+00,  2.41115679e+00, -1.99127305e+00],\n",
      "       [-1.00721566e+00, -2.14109863e-01, -4.00083160e-01],\n",
      "       [-2.42329760e-01, -8.59667237e-01,  1.09800894e-01],\n",
      "       [-4.50935005e-01,  1.73224562e-01, -6.98980708e-01],\n",
      "       [ 3.58105671e-02,  1.63648794e+00,  1.62547520e-01],\n",
      "       [-9.37680577e-01, -1.41915030e+00,  1.05924016e+00],\n",
      "       [-1.07675074e+00, -1.16092735e+00,  1.88920833e-01],\n",
      "       [ 1.74880731e-01, -1.06516967e-01, -1.31435801e+00],\n",
      "       [ 1.14837187e+00,  1.31370926e+00, -1.50776231e+00],\n",
      "       [-3.37245146e-02, -4.50814233e-01,  9.88911330e-01],\n",
      "       [-7.29075332e-01,  1.73224562e-01, -8.04473960e-01],\n",
      "       [-2.42329760e-01,  3.02336037e-01, -2.77007699e-01],\n",
      "       [ 3.83485976e-01, -1.49554125e-01, -3.08567763e-02],\n",
      "       [-9.37680577e-01, -8.81185816e-01, -2.20656720e-02],\n",
      "       [-1.35489107e+00, -1.52674319e+00,  1.62187084e+00],\n",
      "       [-5.20470087e-01,  2.25945081e-02, -1.12095372e+00],\n",
      "       [ 1.74880731e-01,  1.18459778e+00, -1.41985127e+00],\n",
      "       [-1.35489107e+00, -4.50814233e-01, -1.01185611e-01],\n",
      "       [ 3.83485976e-01,  2.25945081e-02, -2.24261072e-01],\n",
      "       [-3.37245146e-02,  1.73224562e-01,  6.19684947e-01],\n",
      "       [-1.35489107e+00, -3.21702758e-01, -8.48429482e-01],\n",
      "       [-3.37245146e-02,  1.20611636e+00, -1.37589574e+00],\n",
      "       [ 7.31161384e-01,  1.31370926e+00, -9.80296048e-01],\n",
      "       [-1.00721566e+00, -9.67260133e-01,  4.26280651e-01],\n",
      "       [ 2.12186302e+00,  1.01244915e+00, -1.47259789e+00],\n",
      "       [ 2.44415812e-01, -4.50814233e-01, -5.40740829e-01],\n",
      "       [-9.37680577e-01,  1.07592896e-03, -4.44038681e-01],\n",
      "       [ 1.42651220e+00,  2.43267537e+00, -9.18758317e-01],\n",
      "       [ 6.61626302e-01,  6.56316664e-02, -8.66011691e-01],\n",
      "       [ 1.74880731e-01,  9.69411991e-01, -9.89087152e-01],\n",
      "       [-1.14628582e+00, -9.67260133e-01,  8.04298138e-01],\n",
      "       [ 2.05232794e+00,  2.15293384e+00, -3.96478807e-02],\n",
      "       [ 5.92091221e-01,  4.74484670e-01, -2.06678864e-01],\n",
      "       [ 4.53021057e-01,  1.22763494e+00, -1.80305551e-01],\n",
      "       [-7.29075332e-01, -5.36888550e-01,  1.96472391e+00],\n",
      "       [-3.81399923e-01, -2.78665600e-01, -5.84696351e-01],\n",
      "       [-4.50935005e-01,  6.46633304e-01,  1.36174207e-01],\n",
      "       [-1.03259596e-01, -2.57147021e-01, -5.31949725e-01],\n",
      "       [-1.14628582e+00, -5.36888550e-01,  2.50458563e-01],\n",
      "       [ 8.00696466e-01, -1.71072704e-01,  5.14191694e-01],\n",
      "       [-8.68145495e-01, -3.43221337e-01,  1.18591998e-01],\n",
      "       [-1.28535599e+00, -8.81185816e-01,  2.06142606e+00],\n",
      "       [-9.37680577e-01, -5.79925708e-01,  4.52653964e-01],\n",
      "       [-7.98610413e-01,  2.25945081e-02, -3.47336533e-01],\n",
      "       [-1.03259596e-01,  4.41130873e-02,  3.99907338e-01],\n",
      "       [-7.98610413e-01, -2.78665600e-01, -1.07699820e+00],\n",
      "       [ 2.26093318e+00,  2.06685953e+00,  6.37267155e-01],\n",
      "       [-1.72794678e-01, -6.87518604e-01,  4.30764114e-03],\n",
      "       [ 3.13950894e-01,  1.44282073e+00, -6.02278560e-01],\n",
      "       [ 3.83485976e-01, -4.72332812e-01,  4.30764114e-03],\n",
      "       [ 8.00696466e-01, -4.50814233e-01, -2.77007699e-01],\n",
      "       [ 2.44415812e-01, -2.14109863e-01, -8.66011691e-01],\n",
      "       [-7.98610413e-01, -1.26852024e+00,  1.05044906e+00],\n",
      "       [-7.29075332e-01, -8.81185816e-01,  2.43065245e+00],\n",
      "       [ 1.74880731e-01,  6.56316664e-02, -5.67114143e-01],\n",
      "       [-4.50935005e-01,  3.23854616e-01,  1.31418219e+00],\n",
      "       [-1.35489107e+00, -6.01444287e-01, -5.40740829e-01],\n",
      "       [-3.11864841e-01,  4.96003249e-01,  4.52653964e-01],\n",
      "       [-2.42329760e-01, -1.20396450e+00,  8.34275804e-02],\n",
      "       [-6.59540250e-01,  2.37780300e-01, -8.57220587e-01],\n",
      "       [ 1.35697712e+00, -8.49983877e-02, -1.34952243e+00],\n",
      "       [-4.50935005e-01, -7.95111500e-01,  1.17352452e+00],\n",
      "       [-6.59540250e-01,  5.17521829e-01, -3.38545429e-01],\n",
      "       [-2.42329760e-01,  1.07592896e-03,  7.46364761e-02],\n",
      "       [-1.72794678e-01, -1.06516967e-01, -2.15469968e-01],\n",
      "       [ 8.70231548e-01,  1.70104368e+00, -1.78028654e+00],\n",
      "       [-1.42442615e+00, -3.43221337e-01, -2.59425490e-01],\n",
      "       [-5.90005168e-01, -1.28035546e-01, -5.05576412e-01],\n",
      "       [ 6.61626302e-01,  2.17445242e+00, -1.06820709e+00],\n",
      "       [ 5.92091221e-01,  8.71502456e-02,  1.29659998e+00],\n",
      "       [-5.90005168e-01, -7.95111500e-01,  2.50458563e-01],\n",
      "       [ 2.44415812e-01,  1.20611636e+00, -1.13853593e+00],\n",
      "       [-5.90005168e-01, -6.34798085e-02,  8.48253660e-01],\n",
      "       [-9.37680577e-01, -7.30555762e-01,  6.63640468e-01],\n",
      "       [-6.59540250e-01, -1.20396450e+00,  9.36164704e-01],\n",
      "       [-1.14628582e+00, -3.00184179e-01,  1.64824416e+00],\n",
      "       [ 1.07883679e+00,  2.08837811e+00, -1.13853593e+00],\n",
      "       [-2.42329760e-01, -2.57147021e-01, -1.09976716e-01],\n",
      "       [ 1.77418761e+00,  1.03396773e+00, -1.10337151e+00],\n",
      "       [-3.81399923e-01,  2.59298879e-01, -6.81398499e-01],\n",
      "       [ 1.77418761e+00,  7.11189041e-01, -8.04473960e-01],\n",
      "       [ 1.70465253e+00,  4.74484670e-01, -1.62204667e+00],\n",
      "       [ 1.07883679e+00, -4.93851392e-01, -6.55025186e-01],\n",
      "       [-7.29075332e-01, -1.54826177e+00,  1.51637759e+00],\n",
      "       [ 1.05345649e-01,  5.17521829e-01, -3.82500951e-01],\n",
      "       [ 7.31161384e-01,  7.11189041e-01, -3.29754325e-01],\n",
      "       [-1.03259596e-01, -5.58407129e-01,  7.77924825e-01],\n",
      "       [ 5.22556139e-01,  1.51705983e-01, -8.92385004e-01],\n",
      "       [-1.21582090e+00, -1.71072704e-01, -5.58323038e-01],\n",
      "       [-7.29075332e-01,  1.01244915e+00, -9.23945069e-02],\n",
      "       [ 1.74880731e-01,  1.74408084e+00, -3.56127638e-01],\n",
      "       [ 9.39766629e-01, -4.93851392e-01,  6.28476051e-01],\n",
      "       [-7.29075332e-01, -1.20396450e+00,  1.23506225e+00],\n",
      "       [-1.14628582e+00, -1.26852024e+00, -7.48122981e-02],\n",
      "       [-2.42329760e-01, -2.57147021e-01, -4.35247577e-01],\n",
      "       [-9.37680577e-01, -1.49554125e-01, -5.49531934e-01],\n",
      "       [-3.11864841e-01, -5.79925708e-01,  6.46058260e-01],\n",
      "       [-4.50935005e-01,  5.60558987e-01, -6.46234082e-01],\n",
      "       [ 3.83485976e-01,  9.04856253e-01,  1.30987455e-02],\n",
      "       [-5.90005168e-01, -6.87518604e-01, -4.70411995e-01],\n",
      "       [ 8.70231548e-01, -3.86258496e-01, -5.40740829e-01],\n",
      "       [ 5.92091221e-01,  2.41115679e+00, -1.33194022e+00],\n",
      "       [-4.50935005e-01, -7.52074341e-01,  9.88911330e-01],\n",
      "       [ 2.67814367e+00,  2.99215843e+00, -1.52534452e+00],\n",
      "       [ 2.53907351e+00,  2.84152838e+00, -9.45131630e-01],\n",
      "       [-1.56349631e+00, -6.22962866e-01, -1.97887759e-01],\n",
      "       [-1.03259596e-01, -4.07777075e-01, -4.52829786e-01],\n",
      "       [ 3.58105671e-02,  1.94743141e-01,  1.71338624e-01],\n",
      "       [-1.28535599e+00, -4.72332812e-01,  3.44162945e+00],\n",
      "       [ 2.44415812e-01,  9.90930570e-01, -1.16490924e+00],\n",
      "       [-1.21582090e+00, -4.93851392e-01, -7.86891752e-01],\n",
      "       [-5.90005168e-01,  5.39040408e-01,  1.71338624e-01],\n",
      "       [-5.20470087e-01, -9.24222975e-01,  3.91116233e-01],\n",
      "       [-1.21582090e+00, -6.87518604e-01, -5.40740829e-01],\n",
      "       [-3.81399923e-01, -9.02704395e-01,  3.64742920e-01],\n",
      "       [-1.14628582e+00, -8.59667237e-01,  1.02407575e+00],\n",
      "       [-3.11864841e-01, -7.52074341e-01,  1.00649354e+00],\n",
      "       [-3.81399923e-01, -7.95111500e-01,  3.82325129e-01],\n",
      "       [ 3.83485976e-01, -2.14109863e-01, -2.33052177e-01],\n",
      "       [-1.70256648e+00, -4.50814233e-01,  1.01528464e+00],\n",
      "       [ 1.05345649e-01,  2.80817458e-01, -8.74802795e-01],\n",
      "       [-1.72794678e-01,  4.74484670e-01, -7.60518439e-01],\n",
      "       [-8.68145495e-01,  6.25114724e-01, -8.48429482e-01],\n",
      "       [-1.00721566e+00, -7.09037183e-01,  2.04384385e+00],\n",
      "       [-2.42329760e-01, -7.52074341e-01, -2.50634385e-01]])\n"
     ]
    },
    {
     "data": {
      "text/plain": [
       "RandomForestRegressor(max_features=None, random_state=42)"
      ]
     },
     "execution_count": 564,
     "metadata": {},
     "output_type": "execute_result"
    }
   ],
   "source": [
    "# scaling and fitting\n",
    "scaler = preprocessing.StandardScaler().fit(X)\n",
    "X_scaled = scaler.transform(X)\n",
    "competition_X_scaled = scaler.transform(competition_X)\n",
    "pprint.pprint(competition_X_scaled)\n",
    "model.fit(X, y)"
   ]
  },
  {
   "cell_type": "code",
   "execution_count": 565,
   "metadata": {},
   "outputs": [
    {
     "name": "stdout",
     "output_type": "stream",
     "text": [
      "[ 162670.  249735.  397814.  339023.  180517.  208965.  178591.  290133.\n",
      "  393249.  170696.  725730.  624062.  304861.  330039.  175151.  167455.\n",
      "  357107.  222639.  212135.  228294.  206829.  157750.  233098.  551298.\n",
      "  400018.  814191.  509442.  396206.  458149.  272494.  204233.  459375.\n",
      "  265476.  162962.  244657.  201994.  165387.  457906.  234622.  211976.\n",
      "  215872.  220383.  217367.  464476.  271275.  604595.  293768.  337581.\n",
      "  184743.  182519.  189915. 1076685.  216454.  178373.  241120.  194431.\n",
      "  312966.  187486.  148414.  238447.  386288.  411228.  454096.  255346.\n",
      "  182750.  370478.  227383.  388339.  720687.  347452.  226774.  232351.\n",
      "  278397.  156725.  304692.  237573.  314624.  251790.  229938.  361797.\n",
      "  180613.  221526.  262328.  552265.  716637.  282611.  341755.  378660.\n",
      "  214254.  353278.  168556.  583296.  505893.  410366.  280412.  160744.\n",
      "  583189.  155484.  278993.  296321.  314470.  492117.  139389.  220723.\n",
      "  201431.  260622.  363523.  178540.  214089.  199542.  394472.  155122.\n",
      "  244505.  190405.  148263.  323717.  241931.  331098.  345866.  286811.\n",
      "  204364.  490978.  198807.  229817.  279420.  384311.  297986.  250536.\n",
      "  599719.  330872.  187143.  498613.  176357.  682894.  283261.  200620.\n",
      "  330999.  361231.  252139.  475960.  995353.  310686.  455656.  216961.\n",
      "  429960.  352480.  151818.  270387.  416068.  183350.  264444.  252842.\n",
      "  192891.  240588.  192960.  177423.  547561.  472438.  170156.  380129.\n",
      "  333097.  443235.  524169.  186393.  261408.  154964.  165345.  223057.\n",
      "  282924.  288636.  432410.  261466.  254750.  345287.  307688.  226823.\n",
      "  170981.  339609.  314233.  480885.  278187.  297778.  200772.  298196.\n",
      "  150683.  199789.  218678.  286684.  193788.  463923.  119902.  142395.\n",
      "  212496.  337239.  401494. 1112747.  171845.  173798.  396896.  484253.\n",
      "  223484.  494887.  536281.  521878.  439995.  295340.  469690.  218717.\n",
      "  207556.  153086.  526671.  265896.]\n"
     ]
    }
   ],
   "source": [
    "# competition predictions\n",
    "competition_preds = model.predict(competition_X)\n",
    "print(competition_preds)"
   ]
  },
  {
   "cell_type": "markdown",
   "metadata": {},
   "source": [
    "### Generating submission"
   ]
  },
  {
   "cell_type": "code",
   "execution_count": 566,
   "metadata": {},
   "outputs": [],
   "source": [
    "# Creating and outputting DataFrame\n",
    "output = pd.DataFrame({'ID': competition_data.ID, 'Median House Price': competition_preds})\n",
    "output.to_csv('Vyas_Advay_answer.csv', index=False)"
   ]
  }
 ],
 "metadata": {
  "kernelspec": {
   "display_name": "Python 3.9.12 ('base')",
   "language": "python",
   "name": "python3"
  },
  "language_info": {
   "codemirror_mode": {
    "name": "ipython",
    "version": 3
   },
   "file_extension": ".py",
   "mimetype": "text/x-python",
   "name": "python",
   "nbconvert_exporter": "python",
   "pygments_lexer": "ipython3",
   "version": "3.9.12"
  },
  "orig_nbformat": 4,
  "vscode": {
   "interpreter": {
    "hash": "b0d8b00385fed0be2ecd2298f954d5f87042379fb0759f0fcec831b5194ef8ba"
   }
  }
 },
 "nbformat": 4,
 "nbformat_minor": 2
}
