{
 "cells": [
  {
   "cell_type": "markdown",
   "metadata": {},
   "source": [
    "# AIS Summer Comp (Advay Vyas)"
   ]
  },
  {
   "cell_type": "markdown",
   "metadata": {},
   "source": [
    "### Imports and data"
   ]
  },
  {
   "cell_type": "code",
   "execution_count": 90,
   "metadata": {},
   "outputs": [],
   "source": [
    "# imports\n",
    "from sklearn.metrics import mean_squared_error\n",
    "from sklearn.model_selection import train_test_split\n",
    "from sklearn.model_selection import GridSearchCV\n",
    "from sklearn.ensemble import RandomForestRegressor\n",
    "from sklearn import preprocessing\n",
    "from sklearn.pipeline import make_pipeline\n",
    "from sklearn.preprocessing import OneHotEncoder\n",
    "from sklearn.compose import ColumnTransformer\n",
    "from sklearn.pipeline import Pipeline\n",
    "import pandas as pd\n",
    "import numpy as np\n",
    "import pprint\n",
    "from math import sqrt"
   ]
  },
  {
   "cell_type": "code",
   "execution_count": 91,
   "metadata": {},
   "outputs": [
    {
     "data": {
      "text/html": [
       "<div>\n",
       "<style scoped>\n",
       "    .dataframe tbody tr th:only-of-type {\n",
       "        vertical-align: middle;\n",
       "    }\n",
       "\n",
       "    .dataframe tbody tr th {\n",
       "        vertical-align: top;\n",
       "    }\n",
       "\n",
       "    .dataframe thead th {\n",
       "        text-align: right;\n",
       "    }\n",
       "</style>\n",
       "<table border=\"1\" class=\"dataframe\">\n",
       "  <thead>\n",
       "    <tr style=\"text-align: right;\">\n",
       "      <th></th>\n",
       "      <th>ID</th>\n",
       "      <th>Population</th>\n",
       "      <th>Median Age</th>\n",
       "      <th>Unemployment Rate</th>\n",
       "      <th>Median Income</th>\n",
       "      <th>Poverty Rate</th>\n",
       "      <th>Median House Price</th>\n",
       "    </tr>\n",
       "  </thead>\n",
       "  <tbody>\n",
       "    <tr>\n",
       "      <th>0</th>\n",
       "      <td>CA42</td>\n",
       "      <td>840562</td>\n",
       "      <td>35.6</td>\n",
       "      <td>5.1</td>\n",
       "      <td>7.8</td>\n",
       "      <td>26.5</td>\n",
       "      <td>455800</td>\n",
       "    </tr>\n",
       "    <tr>\n",
       "      <th>1</th>\n",
       "      <td>TX3</td>\n",
       "      <td>913161</td>\n",
       "      <td>37.5</td>\n",
       "      <td>4.0</td>\n",
       "      <td>6.2</td>\n",
       "      <td>54.5</td>\n",
       "      <td>365700</td>\n",
       "    </tr>\n",
       "    <tr>\n",
       "      <th>2</th>\n",
       "      <td>CA22</td>\n",
       "      <td>768917</td>\n",
       "      <td>33.0</td>\n",
       "      <td>6.6</td>\n",
       "      <td>15.2</td>\n",
       "      <td>24.5</td>\n",
       "      <td>298300</td>\n",
       "    </tr>\n",
       "    <tr>\n",
       "      <th>3</th>\n",
       "      <td>IL6</td>\n",
       "      <td>710626</td>\n",
       "      <td>42.1</td>\n",
       "      <td>3.1</td>\n",
       "      <td>4.6</td>\n",
       "      <td>53.2</td>\n",
       "      <td>334200</td>\n",
       "    </tr>\n",
       "    <tr>\n",
       "      <th>4</th>\n",
       "      <td>IN5</td>\n",
       "      <td>791257</td>\n",
       "      <td>38.3</td>\n",
       "      <td>3.5</td>\n",
       "      <td>8.1</td>\n",
       "      <td>47.9</td>\n",
       "      <td>219100</td>\n",
       "    </tr>\n",
       "  </tbody>\n",
       "</table>\n",
       "</div>"
      ],
      "text/plain": [
       "     ID  Population  Median Age  Unemployment Rate  Median Income  \\\n",
       "0  CA42      840562        35.6                5.1            7.8   \n",
       "1   TX3      913161        37.5                4.0            6.2   \n",
       "2  CA22      768917        33.0                6.6           15.2   \n",
       "3   IL6      710626        42.1                3.1            4.6   \n",
       "4   IN5      791257        38.3                3.5            8.1   \n",
       "\n",
       "   Poverty Rate  Median House Price  \n",
       "0          26.5              455800  \n",
       "1          54.5              365700  \n",
       "2          24.5              298300  \n",
       "3          53.2              334200  \n",
       "4          47.9              219100  "
      ]
     },
     "execution_count": 91,
     "metadata": {},
     "output_type": "execute_result"
    }
   ],
   "source": [
    "# load data\n",
    "train_file_path = 'C:\\\\Users\\\\advay\\\\OneDrive\\\\Desktop\\\\Coding\\\\VSCode\\\\Python\\\\AIS Summer Comp 2022\\\\train.csv'\n",
    "all_data = pd.read_csv(train_file_path)\n",
    "all_data.head()"
   ]
  },
  {
   "cell_type": "code",
   "execution_count": 92,
   "metadata": {},
   "outputs": [
    {
     "data": {
      "text/plain": [
       "0    455800\n",
       "1    365700\n",
       "2    298300\n",
       "3    334200\n",
       "4    219100\n",
       "Name: Median House Price, dtype: int64"
      ]
     },
     "execution_count": 92,
     "metadata": {},
     "output_type": "execute_result"
    }
   ],
   "source": [
    "# get target\n",
    "y = all_data['Median House Price']\n",
    "y.head()"
   ]
  },
  {
   "cell_type": "code",
   "execution_count": 93,
   "metadata": {},
   "outputs": [
    {
     "data": {
      "text/html": [
       "<div>\n",
       "<style scoped>\n",
       "    .dataframe tbody tr th:only-of-type {\n",
       "        vertical-align: middle;\n",
       "    }\n",
       "\n",
       "    .dataframe tbody tr th {\n",
       "        vertical-align: top;\n",
       "    }\n",
       "\n",
       "    .dataframe thead th {\n",
       "        text-align: right;\n",
       "    }\n",
       "</style>\n",
       "<table border=\"1\" class=\"dataframe\">\n",
       "  <thead>\n",
       "    <tr style=\"text-align: right;\">\n",
       "      <th></th>\n",
       "      <th>Population</th>\n",
       "      <th>Median Age</th>\n",
       "      <th>Unemployment Rate</th>\n",
       "      <th>Median Income</th>\n",
       "      <th>Poverty Rate</th>\n",
       "    </tr>\n",
       "  </thead>\n",
       "  <tbody>\n",
       "    <tr>\n",
       "      <th>0</th>\n",
       "      <td>840562</td>\n",
       "      <td>35.6</td>\n",
       "      <td>5.1</td>\n",
       "      <td>7.8</td>\n",
       "      <td>26.5</td>\n",
       "    </tr>\n",
       "    <tr>\n",
       "      <th>1</th>\n",
       "      <td>913161</td>\n",
       "      <td>37.5</td>\n",
       "      <td>4.0</td>\n",
       "      <td>6.2</td>\n",
       "      <td>54.5</td>\n",
       "    </tr>\n",
       "    <tr>\n",
       "      <th>2</th>\n",
       "      <td>768917</td>\n",
       "      <td>33.0</td>\n",
       "      <td>6.6</td>\n",
       "      <td>15.2</td>\n",
       "      <td>24.5</td>\n",
       "    </tr>\n",
       "    <tr>\n",
       "      <th>3</th>\n",
       "      <td>710626</td>\n",
       "      <td>42.1</td>\n",
       "      <td>3.1</td>\n",
       "      <td>4.6</td>\n",
       "      <td>53.2</td>\n",
       "    </tr>\n",
       "    <tr>\n",
       "      <th>4</th>\n",
       "      <td>791257</td>\n",
       "      <td>38.3</td>\n",
       "      <td>3.5</td>\n",
       "      <td>8.1</td>\n",
       "      <td>47.9</td>\n",
       "    </tr>\n",
       "  </tbody>\n",
       "</table>\n",
       "</div>"
      ],
      "text/plain": [
       "   Population  Median Age  Unemployment Rate  Median Income  Poverty Rate\n",
       "0      840562        35.6                5.1            7.8          26.5\n",
       "1      913161        37.5                4.0            6.2          54.5\n",
       "2      768917        33.0                6.6           15.2          24.5\n",
       "3      710626        42.1                3.1            4.6          53.2\n",
       "4      791257        38.3                3.5            8.1          47.9"
      ]
     },
     "execution_count": 93,
     "metadata": {},
     "output_type": "execute_result"
    }
   ],
   "source": [
    "# creating X\n",
    "features = ['Population', 'Median Age', 'Unemployment Rate', 'Median Income', 'Poverty Rate']\n",
    "X = all_data[features]\n",
    "X.head()"
   ]
  },
  {
   "cell_type": "markdown",
   "metadata": {},
   "source": [
    "### Refined RandomForestRegressor Pipeline"
   ]
  },
  {
   "cell_type": "markdown",
   "metadata": {},
   "source": [
    "#### Pipeline"
   ]
  },
  {
   "cell_type": "code",
   "execution_count": 139,
   "metadata": {},
   "outputs": [],
   "source": [
    "# set up data distrubtion\n",
    "X_train, X_test, y_train, y_test = train_test_split(X, y, test_size=.25, random_state = 42)"
   ]
  },
  {
   "cell_type": "code",
   "execution_count": 140,
   "metadata": {},
   "outputs": [],
   "source": [
    "scaler = preprocessing.StandardScaler().fit(X_train)\n",
    "X_train_scaled = scaler.transform(X_train)\n",
    "X_test_scaled = scaler.transform(X_test)"
   ]
  },
  {
   "cell_type": "code",
   "execution_count": 141,
   "metadata": {},
   "outputs": [],
   "source": [
    "# create model\n",
    "model = RandomForestRegressor(random_state = 42, criterion = 'squared_error')"
   ]
  },
  {
   "cell_type": "code",
   "execution_count": 142,
   "metadata": {},
   "outputs": [],
   "source": [
    "# create pipeline\n",
    "rf_pipeline = make_pipeline(preprocessing.StandardScaler(), model)"
   ]
  },
  {
   "cell_type": "markdown",
   "metadata": {},
   "source": [
    "#### Hyperparameter grid values"
   ]
  },
  {
   "cell_type": "code",
   "execution_count": 105,
   "metadata": {},
   "outputs": [],
   "source": [
    "from sklearn.model_selection import RandomizedSearchCV\n",
    "\n",
    "# max features\n",
    "max_features = ['sqrt', 'log2', None]\n",
    "\n",
    "# bootstrap\n",
    "bootstrap = ['True', 'False']\n",
    "\n",
    "# tree depth\n",
    "max_depth = [int(x) for x in np.linspace(start = 1, stop = 10, num = 5)]\n",
    "max_depth.append(None)\n",
    "\n",
    "# max leaf nodes\n",
    "max_leaf_nodes = [int(x) for x in np.linspace(start = 2, stop = 20, num = 8)]\n",
    "max_leaf_nodes.append(None)\n",
    "\n",
    "# min samples leaf\n",
    "min_samples_leaf = [int(x) for x in np.linspace(start = 2, stop = 10, num = 5)]\n",
    "min_samples_leaf.append(1)\n",
    "\n",
    "# min samples split\n",
    "min_samples_split = [int(x) for x in np.linspace(start = 3, stop = 10, num = 5)]\n",
    "min_samples_split.append(2)\n",
    "\n",
    "# number of trees\n",
    "n_estimators = [int(x) for x in np.linspace(start = 50, stop = 450, num = 8)]\n",
    "n_estimators.append(100)"
   ]
  },
  {
   "cell_type": "markdown",
   "metadata": {},
   "source": [
    "#### Creating hyperparameter grid to use in tuning with k-fold cross validation"
   ]
  },
  {
   "cell_type": "code",
   "execution_count": 106,
   "metadata": {},
   "outputs": [
    {
     "name": "stdout",
     "output_type": "stream",
     "text": [
      "{'randomforestregressor__bootstrap': ['True', 'False'],\n",
      " 'randomforestregressor__max_depth': [1, 3, 5, 7, 10, None],\n",
      " 'randomforestregressor__max_features': ['sqrt', 'log2', None],\n",
      " 'randomforestregressor__max_leaf_nodes': [2, 4, 7, 9, 12, 14, 17, 20, None],\n",
      " 'randomforestregressor__min_samples_leaf': [2, 4, 6, 8, 10, 1],\n",
      " 'randomforestregressor__min_samples_split': [3, 4, 6, 8, 10, 2],\n",
      " 'randomforestregressor__n_estimators': [50,\n",
      "                                         107,\n",
      "                                         164,\n",
      "                                         221,\n",
      "                                         278,\n",
      "                                         335,\n",
      "                                         392,\n",
      "                                         450,\n",
      "                                         100]}\n"
     ]
    }
   ],
   "source": [
    "# create hyperparameter grid\n",
    "hyperparameters = {\n",
    " 'randomforestregressor__bootstrap': bootstrap,\n",
    " 'randomforestregressor__max_depth': max_depth,\n",
    " 'randomforestregressor__max_features': max_features,\n",
    " 'randomforestregressor__max_leaf_nodes': max_leaf_nodes,\n",
    " 'randomforestregressor__min_samples_leaf': min_samples_leaf,\n",
    " 'randomforestregressor__min_samples_split': min_samples_split,\n",
    " 'randomforestregressor__n_estimators': n_estimators}\n",
    "               \n",
    "pprint.pprint(hyperparameters)"
   ]
  },
  {
   "cell_type": "markdown",
   "metadata": {},
   "source": [
    "#### K-fold CV with GridSearchCV and RF Pipeline"
   ]
  },
  {
   "cell_type": "code",
   "execution_count": 107,
   "metadata": {},
   "outputs": [
    {
     "name": "stdout",
     "output_type": "stream",
     "text": [
      "Best Parameters\n",
      "{'randomforestregressor__n_estimators': 107, 'randomforestregressor__min_samples_split': 8, 'randomforestregressor__min_samples_leaf': 4, 'randomforestregressor__max_leaf_nodes': 17, 'randomforestregressor__max_features': None, 'randomforestregressor__max_depth': 5, 'randomforestregressor__bootstrap': 'False'}\n",
      "True\n"
     ]
    }
   ],
   "source": [
    "# fit and tune model\n",
    "rf_clf = RandomizedSearchCV(rf_pipeline, hyperparameters, n_iter = 150, cv = 5)\n",
    "rf_clf.fit(X_train, y_train)      \n",
    "\n",
    "print('Best Parameters')\n",
    "print(rf_clf.best_params_)\n",
    "print(rf_clf.refit)"
   ]
  },
  {
   "cell_type": "markdown",
   "metadata": {},
   "source": [
    "#### Evaluating the results of k-fold cross-validation"
   ]
  },
  {
   "cell_type": "code",
   "execution_count": 145,
   "metadata": {},
   "outputs": [],
   "source": [
    "def evaluate(model, X_test, y_test):\n",
    "    predictions = model.predict(X_test)\n",
    "    error = sqrt(mean_squared_error(y_test, predictions))\n",
    "    print(error)\n",
    "\n",
    "    return error"
   ]
  },
  {
   "cell_type": "code",
   "execution_count": 335,
   "metadata": {},
   "outputs": [
    {
     "name": "stdout",
     "output_type": "stream",
     "text": [
      "RMSE (lower is better)\n",
      "133376.156877307\n"
     ]
    }
   ],
   "source": [
    "baseline_model = RandomForestRegressor(random_state = 20, criterion = 'squared_error')\n",
    "baseline_model.fit(X_train_scaled, y_train)\n",
    "print('RMSE (lower is better)')\n",
    "base_accuracy = evaluate(baseline_model, X_test_scaled, y_test)"
   ]
  },
  {
   "cell_type": "code",
   "execution_count": 336,
   "metadata": {},
   "outputs": [
    {
     "name": "stdout",
     "output_type": "stream",
     "text": [
      "RMSE (lower is better)\n",
      "144752.48983315096\n"
     ]
    }
   ],
   "source": [
    "print('RMSE (lower is better)')\n",
    "refined_model = RandomForestRegressor(random_state = 42, criterion = 'squared_error', n_estimators = 107, min_samples_split = 8,\n",
    "    min_samples_leaf = 4, max_leaf_nodes = 17, max_features = None, max_depth = 5, bootstrap = True)\n",
    "refined_model.fit(X_train, y_train)\n",
    "refined_accuracy = evaluate(refined_model, X_test, y_test)"
   ]
  },
  {
   "cell_type": "code",
   "execution_count": 337,
   "metadata": {},
   "outputs": [
    {
     "name": "stdout",
     "output_type": "stream",
     "text": [
      "RMSE Errors (higher difference is better)\n",
      "-11376.332955843973\n"
     ]
    }
   ],
   "source": [
    "print('RMSE Errors (higher difference is better)')\n",
    "print(base_accuracy - refined_accuracy)"
   ]
  },
  {
   "cell_type": "markdown",
   "metadata": {},
   "source": [
    "### Predicting competition data"
   ]
  },
  {
   "cell_type": "code",
   "execution_count": 338,
   "metadata": {},
   "outputs": [
    {
     "data": {
      "text/html": [
       "<div>\n",
       "<style scoped>\n",
       "    .dataframe tbody tr th:only-of-type {\n",
       "        vertical-align: middle;\n",
       "    }\n",
       "\n",
       "    .dataframe tbody tr th {\n",
       "        vertical-align: top;\n",
       "    }\n",
       "\n",
       "    .dataframe thead th {\n",
       "        text-align: right;\n",
       "    }\n",
       "</style>\n",
       "<table border=\"1\" class=\"dataframe\">\n",
       "  <thead>\n",
       "    <tr style=\"text-align: right;\">\n",
       "      <th></th>\n",
       "      <th>ID</th>\n",
       "      <th>Population</th>\n",
       "      <th>Median Age</th>\n",
       "      <th>Unemployment Rate</th>\n",
       "      <th>Median Income</th>\n",
       "      <th>Poverty Rate</th>\n",
       "    </tr>\n",
       "  </thead>\n",
       "  <tbody>\n",
       "    <tr>\n",
       "      <th>0</th>\n",
       "      <td>TX35</td>\n",
       "      <td>857654</td>\n",
       "      <td>33.0</td>\n",
       "      <td>4.1</td>\n",
       "      <td>18.4</td>\n",
       "      <td>25.2</td>\n",
       "    </tr>\n",
       "    <tr>\n",
       "      <th>1</th>\n",
       "      <td>PR16</td>\n",
       "      <td>678333</td>\n",
       "      <td>43.0</td>\n",
       "      <td>4.6</td>\n",
       "      <td>13.5</td>\n",
       "      <td>28.3</td>\n",
       "    </tr>\n",
       "    <tr>\n",
       "      <th>2</th>\n",
       "      <td>NY4</td>\n",
       "      <td>730314</td>\n",
       "      <td>40.4</td>\n",
       "      <td>3.6</td>\n",
       "      <td>5.7</td>\n",
       "      <td>43.6</td>\n",
       "    </tr>\n",
       "    <tr>\n",
       "      <th>3</th>\n",
       "      <td>OR1</td>\n",
       "      <td>858875</td>\n",
       "      <td>38.0</td>\n",
       "      <td>3.8</td>\n",
       "      <td>8.9</td>\n",
       "      <td>40.7</td>\n",
       "    </tr>\n",
       "    <tr>\n",
       "      <th>4</th>\n",
       "      <td>GA8</td>\n",
       "      <td>706237</td>\n",
       "      <td>37.6</td>\n",
       "      <td>5.3</td>\n",
       "      <td>17.3</td>\n",
       "      <td>22.7</td>\n",
       "    </tr>\n",
       "  </tbody>\n",
       "</table>\n",
       "</div>"
      ],
      "text/plain": [
       "     ID  Population  Median Age  Unemployment Rate  Median Income  \\\n",
       "0  TX35      857654        33.0                4.1           18.4   \n",
       "1  PR16      678333        43.0                4.6           13.5   \n",
       "2   NY4      730314        40.4                3.6            5.7   \n",
       "3   OR1      858875        38.0                3.8            8.9   \n",
       "4   GA8      706237        37.6                5.3           17.3   \n",
       "\n",
       "   Poverty Rate  \n",
       "0          25.2  \n",
       "1          28.3  \n",
       "2          43.6  \n",
       "3          40.7  \n",
       "4          22.7  "
      ]
     },
     "execution_count": 338,
     "metadata": {},
     "output_type": "execute_result"
    }
   ],
   "source": [
    "# reading competition data\n",
    "competition_data_path = 'C:\\\\Users\\\\advay\\\\OneDrive\\\\Desktop\\\\Coding\\\\VSCode\\\\Python\\\\AIS Summer Comp 2022\\\\evaluation_input.csv'\n",
    "competition_data = pd.read_csv(competition_data_path)\n",
    "competition_data.head()"
   ]
  },
  {
   "cell_type": "code",
   "execution_count": 339,
   "metadata": {},
   "outputs": [
    {
     "data": {
      "text/html": [
       "<div>\n",
       "<style scoped>\n",
       "    .dataframe tbody tr th:only-of-type {\n",
       "        vertical-align: middle;\n",
       "    }\n",
       "\n",
       "    .dataframe tbody tr th {\n",
       "        vertical-align: top;\n",
       "    }\n",
       "\n",
       "    .dataframe thead th {\n",
       "        text-align: right;\n",
       "    }\n",
       "</style>\n",
       "<table border=\"1\" class=\"dataframe\">\n",
       "  <thead>\n",
       "    <tr style=\"text-align: right;\">\n",
       "      <th></th>\n",
       "      <th>Population</th>\n",
       "      <th>Median Age</th>\n",
       "      <th>Unemployment Rate</th>\n",
       "      <th>Median Income</th>\n",
       "      <th>Poverty Rate</th>\n",
       "    </tr>\n",
       "  </thead>\n",
       "  <tbody>\n",
       "    <tr>\n",
       "      <th>0</th>\n",
       "      <td>857654</td>\n",
       "      <td>33.0</td>\n",
       "      <td>4.1</td>\n",
       "      <td>18.4</td>\n",
       "      <td>25.2</td>\n",
       "    </tr>\n",
       "    <tr>\n",
       "      <th>1</th>\n",
       "      <td>678333</td>\n",
       "      <td>43.0</td>\n",
       "      <td>4.6</td>\n",
       "      <td>13.5</td>\n",
       "      <td>28.3</td>\n",
       "    </tr>\n",
       "    <tr>\n",
       "      <th>2</th>\n",
       "      <td>730314</td>\n",
       "      <td>40.4</td>\n",
       "      <td>3.6</td>\n",
       "      <td>5.7</td>\n",
       "      <td>43.6</td>\n",
       "    </tr>\n",
       "    <tr>\n",
       "      <th>3</th>\n",
       "      <td>858875</td>\n",
       "      <td>38.0</td>\n",
       "      <td>3.8</td>\n",
       "      <td>8.9</td>\n",
       "      <td>40.7</td>\n",
       "    </tr>\n",
       "    <tr>\n",
       "      <th>4</th>\n",
       "      <td>706237</td>\n",
       "      <td>37.6</td>\n",
       "      <td>5.3</td>\n",
       "      <td>17.3</td>\n",
       "      <td>22.7</td>\n",
       "    </tr>\n",
       "  </tbody>\n",
       "</table>\n",
       "</div>"
      ],
      "text/plain": [
       "   Population  Median Age  Unemployment Rate  Median Income  Poverty Rate\n",
       "0      857654        33.0                4.1           18.4          25.2\n",
       "1      678333        43.0                4.6           13.5          28.3\n",
       "2      730314        40.4                3.6            5.7          43.6\n",
       "3      858875        38.0                3.8            8.9          40.7\n",
       "4      706237        37.6                5.3           17.3          22.7"
      ]
     },
     "execution_count": 339,
     "metadata": {},
     "output_type": "execute_result"
    }
   ],
   "source": [
    "# creating competition X\n",
    "competition_X = competition_data[features]\n",
    "#competition_X_scaled = scaler.transform(competition_X)\n",
    "competition_X.head()"
   ]
  },
  {
   "cell_type": "code",
   "execution_count": 340,
   "metadata": {},
   "outputs": [
    {
     "name": "stdout",
     "output_type": "stream",
     "text": [
      "array([[ 1.66326066, -1.59456436, -0.38139992,  1.33522784, -0.71656292],\n",
      "       [-1.15862523,  1.12676742, -0.03372451,  0.28081746, -0.44403868],\n",
      "       [-0.34062594,  0.41922116, -0.72907533, -1.39763172,  0.90100029],\n",
      "       ...,\n",
      "       [ 0.4741631 , -0.50603164, -0.8681455 ,  0.62511472, -0.84842948],\n",
      "       [ 0.61925368,  0.11987466, -1.00721566, -0.70903718,  2.04384385],\n",
      "       [-0.47632183,  0.55528775, -0.24232976, -0.75207434, -0.25063439]])\n"
     ]
    },
    {
     "data": {
      "text/plain": [
       "RandomForestRegressor(random_state=20)"
      ]
     },
     "execution_count": 340,
     "metadata": {},
     "output_type": "execute_result"
    }
   ],
   "source": [
    "scaler = preprocessing.StandardScaler().fit(X)\n",
    "X_scaled = scaler.transform(X)\n",
    "competition_X_scaled = scaler.transform(competition_X)\n",
    "pprint.pprint(competition_X_scaled)\n",
    "baseline_model.fit(X_scaled, y)"
   ]
  },
  {
   "cell_type": "code",
   "execution_count": 341,
   "metadata": {},
   "outputs": [
    {
     "name": "stdout",
     "output_type": "stream",
     "text": [
      "[ 187737.  269549.  444897.  314586.  157356.  202491.  171177.  341619.\n",
      "  383710.  129254.  555904.  434859.  381042.  330116.  190019.  170778.\n",
      "  369076.  225295.  214337.  206664.  239317.  163876.  198847.  453238.\n",
      "  550438.  940605.  558717.  427414.  580006.  267362.  223404.  568485.\n",
      "  181861.  161554.  190111.  326356.  190157.  305750.  187817.  252260.\n",
      "  198962.  134144.  222632.  460853.  307055.  585675.  314833.  330413.\n",
      "  393299.  132567.  217536. 1189443.  388520.  192542.  250168.  202194.\n",
      "  299820.  196928.  264996.  204205.  477635.  324380.  420697.  186554.\n",
      "  153123.  525781.  234956.  490827.  566263.  464982.  222322.  207101.\n",
      "  302488.  149236.  190769.  387378.  268453.  146657.  161625.  204791.\n",
      "  158051.  173578.  149750.  423738.  714743.  248201.  179449.  384615.\n",
      "  198315.  290573.  158409.  422626.  369479.  432773.  169200.  169473.\n",
      "  377601.  160897.  277525.  257678.  275125.  503357.  137644.  168001.\n",
      "  273163.  241992.  422409.  164110.  159699.  260878.  335430.  219754.\n",
      "  250443.  203409.  114525.  214738.  155022.  462537.  418166.  205078.\n",
      "  242557.  630499.  193492.  252098.  225177.  543554.  413434.  252855.\n",
      "  671520.  352893.  184505.  505131.  152028.  704525.  254954.  175897.\n",
      "  274323.  593298.  173369.  328430. 1023749.  237296.  606012.  223541.\n",
      "  352682.  313816.  163462.  405140.  522945.  176625.  241307.  203096.\n",
      "  289053.  452533.  204488.  177689.  533898.  335851.  161692.  362854.\n",
      "  301393.  348141.  451664.  380042.  231023.  179658.  199712.  162414.\n",
      "  376017.  226614.  448668.  222874.  278775.  404804.  170387.  197589.\n",
      "  213908.  374119.  325210.  419972.  256270.  255455.  199058.  356495.\n",
      "  169833.  313347.  195325.  252364.  178757.  450572.  339239.  375931.\n",
      "  251541.  260380.  427987.  992025.  163342.  163320.  441417.  343071.\n",
      "  208940.  586850.  353112.  449028.  547796.  253103.  404937.  154399.\n",
      "  146947.  158143.  479953.  239276.]\n"
     ]
    }
   ],
   "source": [
    "# competition predictions\n",
    "competition_preds = baseline_model.predict(competition_X_scaled)\n",
    "print(competition_preds)"
   ]
  },
  {
   "cell_type": "markdown",
   "metadata": {},
   "source": [
    "### Generating submission"
   ]
  },
  {
   "cell_type": "code",
   "execution_count": 342,
   "metadata": {},
   "outputs": [],
   "source": [
    "# Creating and outputting DataFrame\n",
    "output = pd.DataFrame({'ID': competition_data.ID, 'Median House Price': competition_preds})\n",
    "output.to_csv('Vyas_Advay_answer.csv', index=False)"
   ]
  }
 ],
 "metadata": {
  "kernelspec": {
   "display_name": "Python 3.9.12 ('base')",
   "language": "python",
   "name": "python3"
  },
  "language_info": {
   "codemirror_mode": {
    "name": "ipython",
    "version": 3
   },
   "file_extension": ".py",
   "mimetype": "text/x-python",
   "name": "python",
   "nbconvert_exporter": "python",
   "pygments_lexer": "ipython3",
   "version": "3.9.12"
  },
  "orig_nbformat": 4,
  "vscode": {
   "interpreter": {
    "hash": "b0d8b00385fed0be2ecd2298f954d5f87042379fb0759f0fcec831b5194ef8ba"
   }
  }
 },
 "nbformat": 4,
 "nbformat_minor": 2
}
