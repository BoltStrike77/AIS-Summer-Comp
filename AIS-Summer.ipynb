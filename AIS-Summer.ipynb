{
 "cells": [
  {
   "cell_type": "markdown",
   "metadata": {},
   "source": [
    "# AIS Summer Comp (Advay Vyas)"
   ]
  },
  {
   "cell_type": "markdown",
   "metadata": {},
   "source": [
    "### Imports and data"
   ]
  },
  {
   "cell_type": "code",
   "execution_count": 22,
   "metadata": {},
   "outputs": [],
   "source": [
    "# imports\n",
    "from sklearn.metrics import mean_squared_error\n",
    "from sklearn.model_selection import train_test_split\n",
    "from sklearn.model_selection import GridSearchCV\n",
    "from sklearn.ensemble import RandomForestRegressor\n",
    "from sklearn import preprocessing\n",
    "from sklearn.pipeline import make_pipeline\n",
    "import pandas as pd\n",
    "import numpy as np\n",
    "import pprint\n",
    "from math import sqrt"
   ]
  },
  {
   "cell_type": "code",
   "execution_count": 23,
   "metadata": {},
   "outputs": [],
   "source": [
    "# load data\n",
    "train_file_path = 'C:\\\\Users\\\\advay\\\\OneDrive\\\\Desktop\\\\Coding\\\\VSCode\\\\Python\\\\AIS Summer Comp 2022\\\\train.csv'\n",
    "all_data = pd.read_csv(train_file_path)"
   ]
  },
  {
   "cell_type": "code",
   "execution_count": 24,
   "metadata": {},
   "outputs": [
    {
     "data": {
      "text/plain": [
       "0    455800\n",
       "1    365700\n",
       "2    298300\n",
       "3    334200\n",
       "4    219100\n",
       "Name: Median House Price, dtype: int64"
      ]
     },
     "execution_count": 24,
     "metadata": {},
     "output_type": "execute_result"
    }
   ],
   "source": [
    "# get target\n",
    "y = all_data['Median House Price']\n",
    "y.head()"
   ]
  },
  {
   "cell_type": "code",
   "execution_count": 25,
   "metadata": {},
   "outputs": [
    {
     "data": {
      "text/html": [
       "<div>\n",
       "<style scoped>\n",
       "    .dataframe tbody tr th:only-of-type {\n",
       "        vertical-align: middle;\n",
       "    }\n",
       "\n",
       "    .dataframe tbody tr th {\n",
       "        vertical-align: top;\n",
       "    }\n",
       "\n",
       "    .dataframe thead th {\n",
       "        text-align: right;\n",
       "    }\n",
       "</style>\n",
       "<table border=\"1\" class=\"dataframe\">\n",
       "  <thead>\n",
       "    <tr style=\"text-align: right;\">\n",
       "      <th></th>\n",
       "      <th>Population</th>\n",
       "      <th>Median Age</th>\n",
       "      <th>Unemployment Rate</th>\n",
       "      <th>Median Income</th>\n",
       "      <th>Poverty Rate</th>\n",
       "    </tr>\n",
       "  </thead>\n",
       "  <tbody>\n",
       "    <tr>\n",
       "      <th>0</th>\n",
       "      <td>840562</td>\n",
       "      <td>35.6</td>\n",
       "      <td>5.1</td>\n",
       "      <td>7.8</td>\n",
       "      <td>26.5</td>\n",
       "    </tr>\n",
       "    <tr>\n",
       "      <th>1</th>\n",
       "      <td>913161</td>\n",
       "      <td>37.5</td>\n",
       "      <td>4.0</td>\n",
       "      <td>6.2</td>\n",
       "      <td>54.5</td>\n",
       "    </tr>\n",
       "    <tr>\n",
       "      <th>2</th>\n",
       "      <td>768917</td>\n",
       "      <td>33.0</td>\n",
       "      <td>6.6</td>\n",
       "      <td>15.2</td>\n",
       "      <td>24.5</td>\n",
       "    </tr>\n",
       "    <tr>\n",
       "      <th>3</th>\n",
       "      <td>710626</td>\n",
       "      <td>42.1</td>\n",
       "      <td>3.1</td>\n",
       "      <td>4.6</td>\n",
       "      <td>53.2</td>\n",
       "    </tr>\n",
       "    <tr>\n",
       "      <th>4</th>\n",
       "      <td>791257</td>\n",
       "      <td>38.3</td>\n",
       "      <td>3.5</td>\n",
       "      <td>8.1</td>\n",
       "      <td>47.9</td>\n",
       "    </tr>\n",
       "  </tbody>\n",
       "</table>\n",
       "</div>"
      ],
      "text/plain": [
       "   Population  Median Age  Unemployment Rate  Median Income  Poverty Rate\n",
       "0      840562        35.6                5.1            7.8          26.5\n",
       "1      913161        37.5                4.0            6.2          54.5\n",
       "2      768917        33.0                6.6           15.2          24.5\n",
       "3      710626        42.1                3.1            4.6          53.2\n",
       "4      791257        38.3                3.5            8.1          47.9"
      ]
     },
     "execution_count": 25,
     "metadata": {},
     "output_type": "execute_result"
    }
   ],
   "source": [
    "# creating X\n",
    "features = ['Population', 'Median Age', 'Unemployment Rate', 'Median Income', 'Poverty Rate']\n",
    "X = all_data[features]\n",
    "X.head()"
   ]
  },
  {
   "cell_type": "markdown",
   "metadata": {},
   "source": [
    "### Refined RandomForestRegressor Pipeline"
   ]
  },
  {
   "cell_type": "markdown",
   "metadata": {},
   "source": [
    "#### Pipeline"
   ]
  },
  {
   "cell_type": "code",
   "execution_count": 26,
   "metadata": {},
   "outputs": [
    {
     "name": "stdout",
     "output_type": "stream",
     "text": [
      "\n",
      "Mean of scaled training data:\n",
      "[ 7.51991062e-16  1.14278957e-15 -4.07081776e-17  2.36847579e-17\n",
      "  2.30926389e-16]\n",
      "\n",
      "Standard Dev of scaled training data:\n",
      "[1. 1. 1. 1. 1.]\n"
     ]
    }
   ],
   "source": [
    "X_train, X_test, y_train, y_test = train_test_split(X, y, test_size=.25, random_state = 42)\n",
    "                    \n",
    "# preprocess and scale data\n",
    "scaler = preprocessing.StandardScaler().fit(X_train) #create scaler\n",
    "X_train_scaled = scaler.transform(X_train)\n",
    "print(\"\\nMean of scaled training data:\")\n",
    "print(X_train_scaled.mean(axis=0))\n",
    "print(\"\\nStandard Dev of scaled training data:\")\n",
    "print(X_train_scaled.std(axis=0))"
   ]
  },
  {
   "cell_type": "code",
   "execution_count": 27,
   "metadata": {},
   "outputs": [
    {
     "name": "stdout",
     "output_type": "stream",
     "text": [
      "\n",
      "Mean of scaled test data:\n",
      "[ 0.02296455 -0.13318823 -0.19505616 -0.21431031 -0.03409505]\n",
      "\n",
      "Standard Dev of scaled test data:\n",
      "[0.79937603 0.89947398 1.05992033 0.82536742 0.85708767]\n"
     ]
    }
   ],
   "source": [
    "# transform test set using training set scale\n",
    "X_test_scaled = scaler.transform(X_test)\n",
    "print(\"\\nMean of scaled test data:\")\n",
    "print (X_test_scaled.mean(axis=0))\n",
    "print(\"\\nStandard Dev of scaled test data:\")\n",
    "print (X_test_scaled.std(axis=0))"
   ]
  },
  {
   "cell_type": "code",
   "execution_count": 77,
   "metadata": {},
   "outputs": [],
   "source": [
    "# create pipeline\n",
    "rf_pipeline = make_pipeline(preprocessing.StandardScaler(), RandomForestRegressor(random_state = 42, criterion = 'squared_error', \n",
    "    max_features = 'auto'))"
   ]
  },
  {
   "cell_type": "markdown",
   "metadata": {},
   "source": [
    "#### Hyperparameter grid values"
   ]
  },
  {
   "cell_type": "code",
   "execution_count": 80,
   "metadata": {},
   "outputs": [],
   "source": [
    "from sklearn.model_selection import RandomizedSearchCV\n",
    "\n",
    "# max features\n",
    "max_features = ['auto', 'sqrt','log2']\n",
    "\n",
    "# bootstrap\n",
    "bootstrap = ['True', 'False']\n",
    "\n",
    "# tree depth\n",
    "max_depth = [int(x) for x in np.linspace(start = 1, stop = 10, num = 5)]\n",
    "\n",
    "# max leaf nodes\n",
    "max_leaf_nodes = [int(x) for x in np.linspace(start = 2, stop = 20, num = 8)]\n",
    "\n",
    "# min samples leaf\n",
    "min_samples_leaf = [int(x) for x in np.linspace(start = 1, stop = 10, num = 3)]\n",
    "min_samples_leaf.append(1)\n",
    "\n",
    "# min samples split\n",
    "min_samples_split = [int(x) for x in np.linspace(start = 2, stop = 10, num = 3)]\n",
    "min_samples_split.append(2)\n",
    "\n",
    "# number of trees\n",
    "n_estimators = [int(x) for x in np.linspace(start = 80, stop = 450, num = 6)]\n",
    "n_estimators.append(100)"
   ]
  },
  {
   "cell_type": "markdown",
   "metadata": {},
   "source": [
    "#### Creating hyperparameter grid to use in tuning with k-fold cross validation"
   ]
  },
  {
   "cell_type": "code",
   "execution_count": 81,
   "metadata": {},
   "outputs": [
    {
     "name": "stdout",
     "output_type": "stream",
     "text": [
      "{'randomforestregressor__bootstrap': ['True', 'False'],\n",
      " 'randomforestregressor__max_depth': [1, 3, 5, 7, 10],\n",
      " 'randomforestregressor__max_features': ['auto', 'sqrt', 'log2'],\n",
      " 'randomforestregressor__max_leaf_nodes': [2, 4, 7, 9, 12, 14, 17, 20],\n",
      " 'randomforestregressor__min_samples_leaf': [1, 5, 10, 1],\n",
      " 'randomforestregressor__min_samples_split': [2, 6, 10, 2],\n",
      " 'randomforestregressor__n_estimators': [80, 154, 228, 302, 376, 450, 100]}\n"
     ]
    }
   ],
   "source": [
    "# create hyperparameter grid\n",
    "hyperparameters = {\n",
    " 'randomforestregressor__bootstrap': bootstrap,\n",
    " 'randomforestregressor__max_depth': max_depth,\n",
    " 'randomforestregressor__max_features': max_features,\n",
    " 'randomforestregressor__max_leaf_nodes': max_leaf_nodes,\n",
    " 'randomforestregressor__min_samples_leaf': min_samples_leaf,\n",
    " 'randomforestregressor__min_samples_split': min_samples_split,\n",
    " 'randomforestregressor__n_estimators': n_estimators}\n",
    "               \n",
    "pprint.pprint(hyperparameters)"
   ]
  },
  {
   "cell_type": "markdown",
   "metadata": {},
   "source": [
    "#### K-fold CV with GridSearchCV and RF Pipeline"
   ]
  },
  {
   "cell_type": "code",
   "execution_count": 82,
   "metadata": {},
   "outputs": [
    {
     "name": "stdout",
     "output_type": "stream",
     "text": [
      "Best Parameters\n",
      "{'randomforestregressor__n_estimators': 302, 'randomforestregressor__min_samples_split': 2, 'randomforestregressor__min_samples_leaf': 5, 'randomforestregressor__max_leaf_nodes': 20, 'randomforestregressor__max_features': 'auto', 'randomforestregressor__max_depth': 10, 'randomforestregressor__bootstrap': 'False'}\n",
      "True\n"
     ]
    }
   ],
   "source": [
    "# fit and tune model\n",
    "rf_clf = RandomizedSearchCV(rf_pipeline, hyperparameters, n_iter = 120, cv=6)\n",
    "rf_clf.fit(X_train, y_train)      \n",
    "\n",
    "print('Best Parameters')\n",
    "print(rf_clf.best_params_)\n",
    "print(rf_clf.refit)"
   ]
  },
  {
   "cell_type": "markdown",
   "metadata": {},
   "source": [
    "#### Evaluating the results of k-fold cross-validation"
   ]
  },
  {
   "cell_type": "code",
   "execution_count": 71,
   "metadata": {},
   "outputs": [],
   "source": [
    "def evaluate(model, X_test, y_test):\n",
    "    predictions = model.predict(X_test)\n",
    "    error = sqrt(mean_squared_error(y_test, predictions))\n",
    "    print('RMSE:')\n",
    "    print(error)\n",
    "\n",
    "    return error"
   ]
  },
  {
   "cell_type": "code",
   "execution_count": 120,
   "metadata": {},
   "outputs": [
    {
     "name": "stdout",
     "output_type": "stream",
     "text": [
      "RMSE (lower is better)\n",
      "RMSE:\n",
      "135361.16594452044\n"
     ]
    }
   ],
   "source": [
    "baseline_model = RandomForestRegressor(random_state = 42, criterion = 'squared_error', max_features = 'auto')\n",
    "baseline_model.fit(X_train, y_train)\n",
    "print('RMSE (lower is better)')\n",
    "base_accuracy = evaluate(baseline_model, X_test, y_test)"
   ]
  },
  {
   "cell_type": "code",
   "execution_count": 104,
   "metadata": {},
   "outputs": [
    {
     "name": "stdout",
     "output_type": "stream",
     "text": [
      "RMSE (lower is better)\n",
      "RMSE:\n",
      "151183.01954848226\n"
     ]
    }
   ],
   "source": [
    "print('RMSE (lower is better)')\n",
    "refined_accuracy = evaluate(rf_clf, X_test, y_test)"
   ]
  },
  {
   "cell_type": "code",
   "execution_count": 93,
   "metadata": {},
   "outputs": [
    {
     "name": "stdout",
     "output_type": "stream",
     "text": [
      "RMSE Errors (higher difference is better)\n",
      "15543.30939102138\n"
     ]
    }
   ],
   "source": [
    "print('RMSE Errors (higher difference is better)')\n",
    "print(base_accuracy - refined_accuracy)"
   ]
  },
  {
   "cell_type": "markdown",
   "metadata": {},
   "source": [
    "### Predicting competition data"
   ]
  },
  {
   "cell_type": "code",
   "execution_count": 114,
   "metadata": {},
   "outputs": [
    {
     "data": {
      "text/html": [
       "<div>\n",
       "<style scoped>\n",
       "    .dataframe tbody tr th:only-of-type {\n",
       "        vertical-align: middle;\n",
       "    }\n",
       "\n",
       "    .dataframe tbody tr th {\n",
       "        vertical-align: top;\n",
       "    }\n",
       "\n",
       "    .dataframe thead th {\n",
       "        text-align: right;\n",
       "    }\n",
       "</style>\n",
       "<table border=\"1\" class=\"dataframe\">\n",
       "  <thead>\n",
       "    <tr style=\"text-align: right;\">\n",
       "      <th></th>\n",
       "      <th>ID</th>\n",
       "      <th>Population</th>\n",
       "      <th>Median Age</th>\n",
       "      <th>Unemployment Rate</th>\n",
       "      <th>Median Income</th>\n",
       "      <th>Poverty Rate</th>\n",
       "    </tr>\n",
       "  </thead>\n",
       "  <tbody>\n",
       "    <tr>\n",
       "      <th>0</th>\n",
       "      <td>TX35</td>\n",
       "      <td>857654</td>\n",
       "      <td>33.0</td>\n",
       "      <td>4.1</td>\n",
       "      <td>18.4</td>\n",
       "      <td>25.2</td>\n",
       "    </tr>\n",
       "    <tr>\n",
       "      <th>1</th>\n",
       "      <td>PR16</td>\n",
       "      <td>678333</td>\n",
       "      <td>43.0</td>\n",
       "      <td>4.6</td>\n",
       "      <td>13.5</td>\n",
       "      <td>28.3</td>\n",
       "    </tr>\n",
       "    <tr>\n",
       "      <th>2</th>\n",
       "      <td>NY4</td>\n",
       "      <td>730314</td>\n",
       "      <td>40.4</td>\n",
       "      <td>3.6</td>\n",
       "      <td>5.7</td>\n",
       "      <td>43.6</td>\n",
       "    </tr>\n",
       "    <tr>\n",
       "      <th>3</th>\n",
       "      <td>OR1</td>\n",
       "      <td>858875</td>\n",
       "      <td>38.0</td>\n",
       "      <td>3.8</td>\n",
       "      <td>8.9</td>\n",
       "      <td>40.7</td>\n",
       "    </tr>\n",
       "    <tr>\n",
       "      <th>4</th>\n",
       "      <td>GA8</td>\n",
       "      <td>706237</td>\n",
       "      <td>37.6</td>\n",
       "      <td>5.3</td>\n",
       "      <td>17.3</td>\n",
       "      <td>22.7</td>\n",
       "    </tr>\n",
       "  </tbody>\n",
       "</table>\n",
       "</div>"
      ],
      "text/plain": [
       "     ID  Population  Median Age  Unemployment Rate  Median Income  \\\n",
       "0  TX35      857654        33.0                4.1           18.4   \n",
       "1  PR16      678333        43.0                4.6           13.5   \n",
       "2   NY4      730314        40.4                3.6            5.7   \n",
       "3   OR1      858875        38.0                3.8            8.9   \n",
       "4   GA8      706237        37.6                5.3           17.3   \n",
       "\n",
       "   Poverty Rate  \n",
       "0          25.2  \n",
       "1          28.3  \n",
       "2          43.6  \n",
       "3          40.7  \n",
       "4          22.7  "
      ]
     },
     "execution_count": 114,
     "metadata": {},
     "output_type": "execute_result"
    }
   ],
   "source": [
    "# reading competition data\n",
    "competition_data_path = 'C:\\\\Users\\\\advay\\\\OneDrive\\\\Desktop\\\\Coding\\\\VSCode\\\\Python\\\\AIS Summer Comp 2022\\\\evaluation_input.csv'\n",
    "competition_data = pd.read_csv(competition_data_path)\n",
    "competition_data.head()"
   ]
  },
  {
   "cell_type": "code",
   "execution_count": 115,
   "metadata": {},
   "outputs": [
    {
     "data": {
      "text/html": [
       "<div>\n",
       "<style scoped>\n",
       "    .dataframe tbody tr th:only-of-type {\n",
       "        vertical-align: middle;\n",
       "    }\n",
       "\n",
       "    .dataframe tbody tr th {\n",
       "        vertical-align: top;\n",
       "    }\n",
       "\n",
       "    .dataframe thead th {\n",
       "        text-align: right;\n",
       "    }\n",
       "</style>\n",
       "<table border=\"1\" class=\"dataframe\">\n",
       "  <thead>\n",
       "    <tr style=\"text-align: right;\">\n",
       "      <th></th>\n",
       "      <th>Population</th>\n",
       "      <th>Median Age</th>\n",
       "      <th>Unemployment Rate</th>\n",
       "      <th>Median Income</th>\n",
       "      <th>Poverty Rate</th>\n",
       "    </tr>\n",
       "  </thead>\n",
       "  <tbody>\n",
       "    <tr>\n",
       "      <th>0</th>\n",
       "      <td>857654</td>\n",
       "      <td>33.0</td>\n",
       "      <td>4.1</td>\n",
       "      <td>18.4</td>\n",
       "      <td>25.2</td>\n",
       "    </tr>\n",
       "    <tr>\n",
       "      <th>1</th>\n",
       "      <td>678333</td>\n",
       "      <td>43.0</td>\n",
       "      <td>4.6</td>\n",
       "      <td>13.5</td>\n",
       "      <td>28.3</td>\n",
       "    </tr>\n",
       "    <tr>\n",
       "      <th>2</th>\n",
       "      <td>730314</td>\n",
       "      <td>40.4</td>\n",
       "      <td>3.6</td>\n",
       "      <td>5.7</td>\n",
       "      <td>43.6</td>\n",
       "    </tr>\n",
       "    <tr>\n",
       "      <th>3</th>\n",
       "      <td>858875</td>\n",
       "      <td>38.0</td>\n",
       "      <td>3.8</td>\n",
       "      <td>8.9</td>\n",
       "      <td>40.7</td>\n",
       "    </tr>\n",
       "    <tr>\n",
       "      <th>4</th>\n",
       "      <td>706237</td>\n",
       "      <td>37.6</td>\n",
       "      <td>5.3</td>\n",
       "      <td>17.3</td>\n",
       "      <td>22.7</td>\n",
       "    </tr>\n",
       "  </tbody>\n",
       "</table>\n",
       "</div>"
      ],
      "text/plain": [
       "   Population  Median Age  Unemployment Rate  Median Income  Poverty Rate\n",
       "0      857654        33.0                4.1           18.4          25.2\n",
       "1      678333        43.0                4.6           13.5          28.3\n",
       "2      730314        40.4                3.6            5.7          43.6\n",
       "3      858875        38.0                3.8            8.9          40.7\n",
       "4      706237        37.6                5.3           17.3          22.7"
      ]
     },
     "execution_count": 115,
     "metadata": {},
     "output_type": "execute_result"
    }
   ],
   "source": [
    "# creating competition X\n",
    "competition_X = competition_data[features]\n",
    "#competition_X_scaled = scaler.transform(competition_X)\n",
    "competition_X.head()"
   ]
  },
  {
   "cell_type": "code",
   "execution_count": 116,
   "metadata": {},
   "outputs": [
    {
     "name": "stdout",
     "output_type": "stream",
     "text": [
      "[ 199716.  159026.  479865.  328395.  162920.  202302.  194956.  395264.\n",
      "  481639.  120628.  507208.  381868.  417949.  301795.  196560.  185826.\n",
      "  457843.  212968.  191326.  203425.  238714.  176273.  212747.  477321.\n",
      "  557063.  903735.  574812.  495227.  568278.  239760.  228184.  548812.\n",
      "  257471.  178570.  192478.  328287.  225128.  337965.  238341.  273579.\n",
      "  203047.  130227.  194391.  426190.  302372.  685082.  323584.  410770.\n",
      "  337241.  123834.  206586. 1128846.  353978.  211349.  241544.  193687.\n",
      "  298589.  196074.  268660.  204637.  456492.  361299.  408279.  187955.\n",
      "  158743.  518792.  212613.  516614.  539083.  456403.  212396.  214390.\n",
      "  318117.  163435.  246298.  341729.  286460.  161597.  169225.  228541.\n",
      "  162796.  178022.  164762.  386969.  725449.  274553.  228506.  386719.\n",
      "  203242.  314184.  153379.  471874.  376827.  425912.  180429.  188884.\n",
      "  328949.  176227.  393931.  260271.  282788.  575535.  130177.  181770.\n",
      "  352969.  212230.  454265.  187162.  173176.  264762.  366073.  258715.\n",
      "  280941.  183051.  110240.  235761.  163498.  445846.  404411.  212401.\n",
      "  188893.  644881.  228739.  330471.  273388.  460874.  423513.  250024.\n",
      "  712210.  370455.  161881.  480261.  176029.  709415.  297897.  185237.\n",
      "  327240.  530074.  263252.  357553.  933998.  227229.  614434.  224711.\n",
      "  351508.  345633.  171490.  405478.  475258.  180353.  194812.  213746.\n",
      "  261147.  483928.  186115.  212301.  554309.  342056.  172572.  360832.\n",
      "  325706.  386174.  516910.  327044.  267965.  206114.  214570.  185394.\n",
      "  374193.  266001.  487436.  205171.  274878.  497083.  181901.  191803.\n",
      "  272888.  312773.  323087.  437260.  268991.  267879.  192372.  345555.\n",
      "  173711.  314385.  206926.  269235.  192538.  438033.  287931.  380680.\n",
      "  250002.  261633.  488784. 1051193.  169206.  181409.  480485.  323529.\n",
      "  215651.  557290.  326319.  371208.  554048.  287290.  358448.  165955.\n",
      "  178262.  157937.  517645.  276285.]\n"
     ]
    }
   ],
   "source": [
    "# competition predictions\n",
    "competition_preds = baseline_model.predict(competition_X)\n",
    "print(competition_preds)"
   ]
  },
  {
   "cell_type": "markdown",
   "metadata": {},
   "source": [
    "### Generating submission"
   ]
  },
  {
   "cell_type": "code",
   "execution_count": 117,
   "metadata": {},
   "outputs": [],
   "source": [
    "# Creating and outputting DataFrame\n",
    "output = pd.DataFrame({'ID': competition_data.ID, 'Median House Price': competition_preds})\n",
    "output.to_csv('Vyas_Advay_answer.csv', index=False)"
   ]
  }
 ],
 "metadata": {
  "kernelspec": {
   "display_name": "Python 3.9.12 ('base')",
   "language": "python",
   "name": "python3"
  },
  "language_info": {
   "codemirror_mode": {
    "name": "ipython",
    "version": 3
   },
   "file_extension": ".py",
   "mimetype": "text/x-python",
   "name": "python",
   "nbconvert_exporter": "python",
   "pygments_lexer": "ipython3",
   "version": "3.9.12"
  },
  "orig_nbformat": 4,
  "vscode": {
   "interpreter": {
    "hash": "b0d8b00385fed0be2ecd2298f954d5f87042379fb0759f0fcec831b5194ef8ba"
   }
  }
 },
 "nbformat": 4,
 "nbformat_minor": 2
}
