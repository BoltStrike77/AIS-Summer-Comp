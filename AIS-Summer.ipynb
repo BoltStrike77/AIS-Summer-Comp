{
 "cells": [
  {
   "cell_type": "markdown",
   "metadata": {},
   "source": [
    "# AIS Summer Comp (Advay Vyas)"
   ]
  },
  {
   "cell_type": "markdown",
   "metadata": {},
   "source": [
    "### Imports and data"
   ]
  },
  {
   "cell_type": "code",
   "execution_count": 1,
   "metadata": {},
   "outputs": [
    {
     "name": "stderr",
     "output_type": "stream",
     "text": [
      "c:\\Users\\advay\\anaconda3\\lib\\site-packages\\xgboost\\compat.py:36: FutureWarning: pandas.Int64Index is deprecated and will be removed from pandas in a future version. Use pandas.Index with the appropriate dtype instead.\n",
      "  from pandas import MultiIndex, Int64Index\n"
     ]
    }
   ],
   "source": [
    "# imports\n",
    "from sklearn.metrics import mean_squared_error\n",
    "from sklearn.model_selection import train_test_split\n",
    "from sklearn.model_selection import RandomizedSearchCV\n",
    "import pandas as pd\n",
    "import numpy as np\n",
    "from math import sqrt\n",
    "from xgboost import XGBRegressor"
   ]
  },
  {
   "cell_type": "code",
   "execution_count": 2,
   "metadata": {},
   "outputs": [],
   "source": [
    "# load data\n",
    "train_file_path = 'C:\\\\Users\\\\advay\\\\OneDrive\\\\Desktop\\\\Coding\\\\VSCode\\\\Python\\\\AIS Summer Comp 2022\\\\train.csv'\n",
    "all_data = pd.read_csv(train_file_path)"
   ]
  },
  {
   "cell_type": "code",
   "execution_count": 3,
   "metadata": {},
   "outputs": [
    {
     "data": {
      "text/plain": [
       "0    455800\n",
       "1    365700\n",
       "2    298300\n",
       "3    334200\n",
       "4    219100\n",
       "Name: Median House Price, dtype: int64"
      ]
     },
     "execution_count": 3,
     "metadata": {},
     "output_type": "execute_result"
    }
   ],
   "source": [
    "# get target\n",
    "y = all_data['Median House Price']\n",
    "y.head()"
   ]
  },
  {
   "cell_type": "code",
   "execution_count": 4,
   "metadata": {},
   "outputs": [
    {
     "data": {
      "text/html": [
       "<div>\n",
       "<style scoped>\n",
       "    .dataframe tbody tr th:only-of-type {\n",
       "        vertical-align: middle;\n",
       "    }\n",
       "\n",
       "    .dataframe tbody tr th {\n",
       "        vertical-align: top;\n",
       "    }\n",
       "\n",
       "    .dataframe thead th {\n",
       "        text-align: right;\n",
       "    }\n",
       "</style>\n",
       "<table border=\"1\" class=\"dataframe\">\n",
       "  <thead>\n",
       "    <tr style=\"text-align: right;\">\n",
       "      <th></th>\n",
       "      <th>Population</th>\n",
       "      <th>Median Age</th>\n",
       "      <th>Unemployment Rate</th>\n",
       "      <th>Median Income</th>\n",
       "      <th>Poverty Rate</th>\n",
       "    </tr>\n",
       "  </thead>\n",
       "  <tbody>\n",
       "    <tr>\n",
       "      <th>0</th>\n",
       "      <td>840562</td>\n",
       "      <td>35.6</td>\n",
       "      <td>5.1</td>\n",
       "      <td>7.8</td>\n",
       "      <td>26.5</td>\n",
       "    </tr>\n",
       "    <tr>\n",
       "      <th>1</th>\n",
       "      <td>913161</td>\n",
       "      <td>37.5</td>\n",
       "      <td>4.0</td>\n",
       "      <td>6.2</td>\n",
       "      <td>54.5</td>\n",
       "    </tr>\n",
       "    <tr>\n",
       "      <th>2</th>\n",
       "      <td>768917</td>\n",
       "      <td>33.0</td>\n",
       "      <td>6.6</td>\n",
       "      <td>15.2</td>\n",
       "      <td>24.5</td>\n",
       "    </tr>\n",
       "    <tr>\n",
       "      <th>3</th>\n",
       "      <td>710626</td>\n",
       "      <td>42.1</td>\n",
       "      <td>3.1</td>\n",
       "      <td>4.6</td>\n",
       "      <td>53.2</td>\n",
       "    </tr>\n",
       "    <tr>\n",
       "      <th>4</th>\n",
       "      <td>791257</td>\n",
       "      <td>38.3</td>\n",
       "      <td>3.5</td>\n",
       "      <td>8.1</td>\n",
       "      <td>47.9</td>\n",
       "    </tr>\n",
       "  </tbody>\n",
       "</table>\n",
       "</div>"
      ],
      "text/plain": [
       "   Population  Median Age  Unemployment Rate  Median Income  Poverty Rate\n",
       "0      840562        35.6                5.1            7.8          26.5\n",
       "1      913161        37.5                4.0            6.2          54.5\n",
       "2      768917        33.0                6.6           15.2          24.5\n",
       "3      710626        42.1                3.1            4.6          53.2\n",
       "4      791257        38.3                3.5            8.1          47.9"
      ]
     },
     "execution_count": 4,
     "metadata": {},
     "output_type": "execute_result"
    }
   ],
   "source": [
    "# creating X\n",
    "features = ['Population', 'Median Age', 'Unemployment Rate', 'Median Income', 'Poverty Rate']\n",
    "X = all_data[features]\n",
    "X.head()"
   ]
  },
  {
   "cell_type": "markdown",
   "metadata": {},
   "source": [
    "### XGBoost"
   ]
  },
  {
   "cell_type": "markdown",
   "metadata": {},
   "source": [
    "#### Initalize data splits and model"
   ]
  },
  {
   "cell_type": "code",
   "execution_count": 5,
   "metadata": {},
   "outputs": [],
   "source": [
    "X_train, X_test, y_train, y_test = train_test_split(X, y, test_size=.25, random_state = 42)\n",
    "xgb = XGBRegressor(booster = 'gbtree', random_state = 0, max_delta_step = 0)"
   ]
  },
  {
   "cell_type": "markdown",
   "metadata": {},
   "source": [
    "#### List of parameters"
   ]
  },
  {
   "cell_type": "code",
   "execution_count": 6,
   "metadata": {},
   "outputs": [
    {
     "name": "stdout",
     "output_type": "stream",
     "text": [
      "Parameters in use:\n",
      "\n",
      "{'base_score': None,\n",
      " 'booster': 'gbtree',\n",
      " 'colsample_bylevel': None,\n",
      " 'colsample_bynode': None,\n",
      " 'colsample_bytree': None,\n",
      " 'enable_categorical': False,\n",
      " 'gamma': None,\n",
      " 'gpu_id': None,\n",
      " 'importance_type': None,\n",
      " 'interaction_constraints': None,\n",
      " 'learning_rate': None,\n",
      " 'max_delta_step': 0,\n",
      " 'max_depth': None,\n",
      " 'min_child_weight': None,\n",
      " 'missing': nan,\n",
      " 'monotone_constraints': None,\n",
      " 'n_estimators': 100,\n",
      " 'n_jobs': None,\n",
      " 'num_parallel_tree': None,\n",
      " 'objective': 'reg:squarederror',\n",
      " 'predictor': None,\n",
      " 'random_state': 0,\n",
      " 'reg_alpha': None,\n",
      " 'reg_lambda': None,\n",
      " 'scale_pos_weight': None,\n",
      " 'subsample': None,\n",
      " 'tree_method': None,\n",
      " 'validate_parameters': None,\n",
      " 'verbosity': None}\n"
     ]
    }
   ],
   "source": [
    "from pprint import pprint\n",
    "\n",
    "print('Parameters in use:\\n')\n",
    "pprint(xgb.get_params())"
   ]
  },
  {
   "cell_type": "markdown",
   "metadata": {},
   "source": [
    "#### Hyperparameter grid values"
   ]
  },
  {
   "cell_type": "code",
   "execution_count": 7,
   "metadata": {},
   "outputs": [],
   "source": [
    "from sklearn.model_selection import RandomizedSearchCV\n",
    "\n",
    "subsample = [float(x) for x in np.linspace(start = 0.4, stop = 1, num = 3)]\n",
    "n_estimators = [int(x) for x in np.linspace(start = 100, stop = 450, num = 5)]\n",
    "min_child_weight = [int(x) for x in np.linspace(start = 0, stop = 2, num = 1)]\n",
    "max_depth = [int(x) for x in np.linspace(start = 2, stop = 7, num = 4)]\n",
    "learning_rate = [float(x) for x in np.linspace(start = 0.1, stop = 0.7, num = 4)]\n",
    "gamma = [int(x) for x in np.linspace(start = 0, stop = 5, num = 3)]\n",
    "colsample_bytree = [float(x) for x in np.linspace(start = 0.1, stop = 1, num = 5)]\n",
    "colsample_bylevel = [float(x) for x in np.linspace(start = 0.1, stop = 1, num = 5)]\n",
    "colsample_bynode = [float(x) for x in np.linspace(start = 0.1, stop = 1, num = 5)]"
   ]
  },
  {
   "cell_type": "markdown",
   "metadata": {},
   "source": [
    "#### Creating random grid to use in tuning with k-fold cross validation"
   ]
  },
  {
   "cell_type": "code",
   "execution_count": 8,
   "metadata": {},
   "outputs": [
    {
     "name": "stdout",
     "output_type": "stream",
     "text": [
      "{'colsample_bylevel': [0.1, 0.325, 0.55, 0.775, 1.0],\n",
      " 'colsample_bynode': [0.1, 0.325, 0.55, 0.775, 1.0],\n",
      " 'colsample_bytree': [0.1, 0.325, 0.55, 0.775, 1.0],\n",
      " 'gamma': [0, 2, 5],\n",
      " 'learning_rate': [0.1, 0.3, 0.5, 0.7],\n",
      " 'max_depth': [2, 3, 5, 7],\n",
      " 'min_child_weight': [0],\n",
      " 'n_estimators': [100, 187, 275, 362, 450],\n",
      " 'subsample': [0.4, 0.7, 1.0]}\n"
     ]
    }
   ],
   "source": [
    "random_grid = {\n",
    "    'colsample_bytree': colsample_bytree,\n",
    "    'colsample_bylevel': colsample_bylevel,\n",
    "    'colsample_bynode': colsample_bynode,\n",
    "    'n_estimators': n_estimators,\n",
    "    'subsample': subsample,\n",
    "    'max_depth': max_depth,\n",
    "    'learning_rate': learning_rate,\n",
    "    'gamma': gamma,\n",
    "    'min_child_weight': min_child_weight}\n",
    "               \n",
    "pprint(random_grid)"
   ]
  },
  {
   "cell_type": "code",
   "execution_count": 10,
   "metadata": {},
   "outputs": [
    {
     "name": "stdout",
     "output_type": "stream",
     "text": [
      "Fitting 5 folds for each of 150 candidates, totalling 750 fits\n"
     ]
    },
    {
     "name": "stderr",
     "output_type": "stream",
     "text": [
      "c:\\Users\\advay\\anaconda3\\lib\\site-packages\\xgboost\\data.py:262: FutureWarning: pandas.Int64Index is deprecated and will be removed from pandas in a future version. Use pandas.Index with the appropriate dtype instead.\n",
      "  elif isinstance(data.columns, (pd.Int64Index, pd.RangeIndex)):\n"
     ]
    },
    {
     "data": {
      "text/plain": [
       "{'subsample': 0.7,\n",
       " 'n_estimators': 100,\n",
       " 'min_child_weight': 0,\n",
       " 'max_depth': 2,\n",
       " 'learning_rate': 0.1,\n",
       " 'gamma': 2,\n",
       " 'colsample_bytree': 1.0,\n",
       " 'colsample_bynode': 0.775,\n",
       " 'colsample_bylevel': 0.325}"
      ]
     },
     "execution_count": 10,
     "metadata": {},
     "output_type": "execute_result"
    }
   ],
   "source": [
    "xgb_random = RandomizedSearchCV(estimator = xgb, param_distributions = random_grid, n_iter = 150, cv = 5, verbose = 2, \n",
    "    random_state = 0, n_jobs = -1) \n",
    "xgb_random.fit(X_train, y_train)\n",
    "xgb_random.best_params_"
   ]
  },
  {
   "cell_type": "markdown",
   "metadata": {},
   "source": [
    "#### Evaluating the results of k-fold cross-validation"
   ]
  },
  {
   "cell_type": "code",
   "execution_count": 11,
   "metadata": {},
   "outputs": [],
   "source": [
    "def evaluate(model, X_test, y_test):\n",
    "    predictions = model.predict(X_test)\n",
    "    error = sqrt(mean_squared_error(y_test, predictions))\n",
    "    print('RMSE')\n",
    "    print(error)"
   ]
  },
  {
   "cell_type": "code",
   "execution_count": 32,
   "metadata": {},
   "outputs": [
    {
     "name": "stdout",
     "output_type": "stream",
     "text": [
      "RMSE\n",
      "132535.80874358775\n"
     ]
    },
    {
     "name": "stderr",
     "output_type": "stream",
     "text": [
      "c:\\Users\\advay\\anaconda3\\lib\\site-packages\\xgboost\\data.py:262: FutureWarning: pandas.Int64Index is deprecated and will be removed from pandas in a future version. Use pandas.Index with the appropriate dtype instead.\n",
      "  elif isinstance(data.columns, (pd.Int64Index, pd.RangeIndex)):\n"
     ]
    }
   ],
   "source": [
    "baseline_model = XGBRegressor(random_state = 42, booster='gbtree', reg_alpha = 10, \n",
    " subsample = 0.667, n_estimators = 427, min_child_weight = 0, max_depth = 3, \n",
    "    max_delta_step = 0, learning_rate = 0.105, gamma = 4)\n",
    "baseline_model.fit(X_train, y_train, early_stopping_rounds=5, eval_set=[(X_test, y_test)], verbose=False)\n",
    "base_accuracy = evaluate(baseline_model, X_test, y_test)"
   ]
  },
  {
   "cell_type": "code",
   "execution_count": 36,
   "metadata": {},
   "outputs": [
    {
     "name": "stderr",
     "output_type": "stream",
     "text": [
      "c:\\Users\\advay\\anaconda3\\lib\\site-packages\\xgboost\\data.py:262: FutureWarning: pandas.Int64Index is deprecated and will be removed from pandas in a future version. Use pandas.Index with the appropriate dtype instead.\n",
      "  elif isinstance(data.columns, (pd.Int64Index, pd.RangeIndex)):\n"
     ]
    },
    {
     "ename": "XGBoostError",
     "evalue": "[19:57:32] d:\\bld\\xgboost-split_1645118015404\\work\\src\\common\\common.h:157: XGBoost version not compiled with GPU support.",
     "output_type": "error",
     "traceback": [
      "\u001b[1;31m---------------------------------------------------------------------------\u001b[0m",
      "\u001b[1;31mXGBoostError\u001b[0m                              Traceback (most recent call last)",
      "\u001b[1;32mc:\\Users\\advay\\OneDrive\\Desktop\\Coding\\VSCode\\Python\\AIS Summer Comp 2022\\AIS-Summer.ipynb Cell 20'\u001b[0m in \u001b[0;36m<cell line: 4>\u001b[1;34m()\u001b[0m\n\u001b[0;32m      <a href='vscode-notebook-cell:/c%3A/Users/advay/OneDrive/Desktop/Coding/VSCode/Python/AIS%20Summer%20Comp%202022/AIS-Summer.ipynb#ch0000019?line=0'>1</a>\u001b[0m refined_model \u001b[39m=\u001b[39m XGBRegressor(random_state \u001b[39m=\u001b[39m \u001b[39m0\u001b[39m, booster\u001b[39m=\u001b[39m\u001b[39m'\u001b[39m\u001b[39mgbtree\u001b[39m\u001b[39m'\u001b[39m, reg_alpha \u001b[39m=\u001b[39m \u001b[39m10\u001b[39m,\n\u001b[0;32m      <a href='vscode-notebook-cell:/c%3A/Users/advay/OneDrive/Desktop/Coding/VSCode/Python/AIS%20Summer%20Comp%202022/AIS-Summer.ipynb#ch0000019?line=1'>2</a>\u001b[0m subsample \u001b[39m=\u001b[39m \u001b[39m0.7\u001b[39m, n_estimators \u001b[39m=\u001b[39m \u001b[39m100\u001b[39m, min_child_weight \u001b[39m=\u001b[39m \u001b[39m0\u001b[39m, max_depth \u001b[39m=\u001b[39m \u001b[39m2\u001b[39m, learning_rate \u001b[39m=\u001b[39m \u001b[39m0.1\u001b[39m, gamma \u001b[39m=\u001b[39m \u001b[39m4\u001b[39m, colsample_bytree \u001b[39m=\u001b[39m \u001b[39m1.0\u001b[39m, \n\u001b[0;32m      <a href='vscode-notebook-cell:/c%3A/Users/advay/OneDrive/Desktop/Coding/VSCode/Python/AIS%20Summer%20Comp%202022/AIS-Summer.ipynb#ch0000019?line=2'>3</a>\u001b[0m colsample_bynode \u001b[39m=\u001b[39m \u001b[39m0.775\u001b[39m, colsample_bylevel \u001b[39m=\u001b[39m \u001b[39m0.325\u001b[39m, sampling_method \u001b[39m=\u001b[39m \u001b[39m'\u001b[39m\u001b[39mgradient_based\u001b[39m\u001b[39m'\u001b[39m, tree_method \u001b[39m=\u001b[39m \u001b[39m'\u001b[39m\u001b[39mgpu_hist\u001b[39m\u001b[39m'\u001b[39m)\n\u001b[1;32m----> <a href='vscode-notebook-cell:/c%3A/Users/advay/OneDrive/Desktop/Coding/VSCode/Python/AIS%20Summer%20Comp%202022/AIS-Summer.ipynb#ch0000019?line=3'>4</a>\u001b[0m refined_model\u001b[39m.\u001b[39;49mfit(X_train, y_train, early_stopping_rounds\u001b[39m=\u001b[39;49m\u001b[39m5\u001b[39;49m, eval_set\u001b[39m=\u001b[39;49m[(X_test, y_test)], verbose\u001b[39m=\u001b[39;49m\u001b[39mFalse\u001b[39;49;00m)\n\u001b[0;32m      <a href='vscode-notebook-cell:/c%3A/Users/advay/OneDrive/Desktop/Coding/VSCode/Python/AIS%20Summer%20Comp%202022/AIS-Summer.ipynb#ch0000019?line=4'>5</a>\u001b[0m refined_accuracy \u001b[39m=\u001b[39m evaluate(refined_model, X_test, y_test)\n",
      "File \u001b[1;32mc:\\Users\\advay\\anaconda3\\lib\\site-packages\\xgboost\\core.py:506\u001b[0m, in \u001b[0;36m_deprecate_positional_args.<locals>.inner_f\u001b[1;34m(*args, **kwargs)\u001b[0m\n\u001b[0;32m    504\u001b[0m \u001b[39mfor\u001b[39;00m k, arg \u001b[39min\u001b[39;00m \u001b[39mzip\u001b[39m(sig\u001b[39m.\u001b[39mparameters, args):\n\u001b[0;32m    505\u001b[0m     kwargs[k] \u001b[39m=\u001b[39m arg\n\u001b[1;32m--> 506\u001b[0m \u001b[39mreturn\u001b[39;00m f(\u001b[39m*\u001b[39m\u001b[39m*\u001b[39mkwargs)\n",
      "File \u001b[1;32mc:\\Users\\advay\\anaconda3\\lib\\site-packages\\xgboost\\sklearn.py:789\u001b[0m, in \u001b[0;36mXGBModel.fit\u001b[1;34m(self, X, y, sample_weight, base_margin, eval_set, eval_metric, early_stopping_rounds, verbose, xgb_model, sample_weight_eval_set, base_margin_eval_set, feature_weights, callbacks)\u001b[0m\n\u001b[0;32m    786\u001b[0m     obj \u001b[39m=\u001b[39m \u001b[39mNone\u001b[39;00m\n\u001b[0;32m    788\u001b[0m model, feval, params \u001b[39m=\u001b[39m \u001b[39mself\u001b[39m\u001b[39m.\u001b[39m_configure_fit(xgb_model, eval_metric, params)\n\u001b[1;32m--> 789\u001b[0m \u001b[39mself\u001b[39m\u001b[39m.\u001b[39m_Booster \u001b[39m=\u001b[39m train(\n\u001b[0;32m    790\u001b[0m     params,\n\u001b[0;32m    791\u001b[0m     train_dmatrix,\n\u001b[0;32m    792\u001b[0m     \u001b[39mself\u001b[39;49m\u001b[39m.\u001b[39;49mget_num_boosting_rounds(),\n\u001b[0;32m    793\u001b[0m     evals\u001b[39m=\u001b[39;49mevals,\n\u001b[0;32m    794\u001b[0m     early_stopping_rounds\u001b[39m=\u001b[39;49mearly_stopping_rounds,\n\u001b[0;32m    795\u001b[0m     evals_result\u001b[39m=\u001b[39;49mevals_result,\n\u001b[0;32m    796\u001b[0m     obj\u001b[39m=\u001b[39;49mobj,\n\u001b[0;32m    797\u001b[0m     feval\u001b[39m=\u001b[39;49mfeval,\n\u001b[0;32m    798\u001b[0m     verbose_eval\u001b[39m=\u001b[39;49mverbose,\n\u001b[0;32m    799\u001b[0m     xgb_model\u001b[39m=\u001b[39;49mmodel,\n\u001b[0;32m    800\u001b[0m     callbacks\u001b[39m=\u001b[39;49mcallbacks,\n\u001b[0;32m    801\u001b[0m )\n\u001b[0;32m    803\u001b[0m \u001b[39mself\u001b[39m\u001b[39m.\u001b[39m_set_evaluation_result(evals_result)\n\u001b[0;32m    804\u001b[0m \u001b[39mreturn\u001b[39;00m \u001b[39mself\u001b[39m\n",
      "File \u001b[1;32mc:\\Users\\advay\\anaconda3\\lib\\site-packages\\xgboost\\training.py:188\u001b[0m, in \u001b[0;36mtrain\u001b[1;34m(params, dtrain, num_boost_round, evals, obj, feval, maximize, early_stopping_rounds, evals_result, verbose_eval, xgb_model, callbacks)\u001b[0m\n\u001b[0;32m    115\u001b[0m \u001b[39mdef\u001b[39;00m \u001b[39mtrain\u001b[39m(params, dtrain, num_boost_round\u001b[39m=\u001b[39m\u001b[39m10\u001b[39m, evals\u001b[39m=\u001b[39m(), obj\u001b[39m=\u001b[39m\u001b[39mNone\u001b[39;00m, feval\u001b[39m=\u001b[39m\u001b[39mNone\u001b[39;00m,\n\u001b[0;32m    116\u001b[0m           maximize\u001b[39m=\u001b[39m\u001b[39mNone\u001b[39;00m, early_stopping_rounds\u001b[39m=\u001b[39m\u001b[39mNone\u001b[39;00m, evals_result\u001b[39m=\u001b[39m\u001b[39mNone\u001b[39;00m,\n\u001b[0;32m    117\u001b[0m           verbose_eval\u001b[39m=\u001b[39m\u001b[39mTrue\u001b[39;00m, xgb_model\u001b[39m=\u001b[39m\u001b[39mNone\u001b[39;00m, callbacks\u001b[39m=\u001b[39m\u001b[39mNone\u001b[39;00m):\n\u001b[0;32m    118\u001b[0m     \u001b[39m# pylint: disable=too-many-statements,too-many-branches, attribute-defined-outside-init\u001b[39;00m\n\u001b[0;32m    119\u001b[0m     \u001b[39m\"\"\"Train a booster with given parameters.\u001b[39;00m\n\u001b[0;32m    120\u001b[0m \n\u001b[0;32m    121\u001b[0m \u001b[39m    Parameters\u001b[39;00m\n\u001b[1;32m   (...)\u001b[0m\n\u001b[0;32m    186\u001b[0m \u001b[39m    Booster : a trained booster model\u001b[39;00m\n\u001b[0;32m    187\u001b[0m \u001b[39m    \"\"\"\u001b[39;00m\n\u001b[1;32m--> 188\u001b[0m     bst \u001b[39m=\u001b[39m _train_internal(params, dtrain,\n\u001b[0;32m    189\u001b[0m                           num_boost_round\u001b[39m=\u001b[39;49mnum_boost_round,\n\u001b[0;32m    190\u001b[0m                           evals\u001b[39m=\u001b[39;49mevals,\n\u001b[0;32m    191\u001b[0m                           obj\u001b[39m=\u001b[39;49mobj, feval\u001b[39m=\u001b[39;49mfeval,\n\u001b[0;32m    192\u001b[0m                           xgb_model\u001b[39m=\u001b[39;49mxgb_model, callbacks\u001b[39m=\u001b[39;49mcallbacks,\n\u001b[0;32m    193\u001b[0m                           verbose_eval\u001b[39m=\u001b[39;49mverbose_eval,\n\u001b[0;32m    194\u001b[0m                           evals_result\u001b[39m=\u001b[39;49mevals_result,\n\u001b[0;32m    195\u001b[0m                           maximize\u001b[39m=\u001b[39;49mmaximize,\n\u001b[0;32m    196\u001b[0m                           early_stopping_rounds\u001b[39m=\u001b[39;49mearly_stopping_rounds)\n\u001b[0;32m    197\u001b[0m     \u001b[39mreturn\u001b[39;00m bst\n",
      "File \u001b[1;32mc:\\Users\\advay\\anaconda3\\lib\\site-packages\\xgboost\\training.py:76\u001b[0m, in \u001b[0;36m_train_internal\u001b[1;34m(params, dtrain, num_boost_round, evals, obj, feval, xgb_model, callbacks, evals_result, maximize, verbose_eval, early_stopping_rounds)\u001b[0m\n\u001b[0;32m     70\u001b[0m \u001b[39melse\u001b[39;00m:\n\u001b[0;32m     71\u001b[0m     callbacks \u001b[39m=\u001b[39m _configure_deprecated_callbacks(\n\u001b[0;32m     72\u001b[0m         verbose_eval, early_stopping_rounds, maximize, start_iteration,\n\u001b[0;32m     73\u001b[0m         num_boost_round, feval, evals_result, callbacks,\n\u001b[0;32m     74\u001b[0m         show_stdv\u001b[39m=\u001b[39m\u001b[39mFalse\u001b[39;00m, cvfolds\u001b[39m=\u001b[39m\u001b[39mNone\u001b[39;00m)\n\u001b[1;32m---> 76\u001b[0m bst \u001b[39m=\u001b[39m callbacks\u001b[39m.\u001b[39;49mbefore_training(bst)\n\u001b[0;32m     78\u001b[0m \u001b[39mfor\u001b[39;00m i \u001b[39min\u001b[39;00m \u001b[39mrange\u001b[39m(start_iteration, num_boost_round):\n\u001b[0;32m     79\u001b[0m     \u001b[39mif\u001b[39;00m callbacks\u001b[39m.\u001b[39mbefore_iteration(bst, i, dtrain, evals):\n",
      "File \u001b[1;32mc:\\Users\\advay\\anaconda3\\lib\\site-packages\\xgboost\\callback.py:378\u001b[0m, in \u001b[0;36mCallbackContainer.before_training\u001b[1;34m(self, model)\u001b[0m\n\u001b[0;32m    376\u001b[0m \u001b[39m'''Function called before training.'''\u001b[39;00m\n\u001b[0;32m    377\u001b[0m \u001b[39mfor\u001b[39;00m c \u001b[39min\u001b[39;00m \u001b[39mself\u001b[39m\u001b[39m.\u001b[39mcallbacks:\n\u001b[1;32m--> 378\u001b[0m     model \u001b[39m=\u001b[39m c\u001b[39m.\u001b[39;49mbefore_training(model\u001b[39m=\u001b[39;49mmodel)\n\u001b[0;32m    379\u001b[0m     msg \u001b[39m=\u001b[39m \u001b[39m'\u001b[39m\u001b[39mbefore_training should return the model\u001b[39m\u001b[39m'\u001b[39m\n\u001b[0;32m    380\u001b[0m     \u001b[39mif\u001b[39;00m \u001b[39mself\u001b[39m\u001b[39m.\u001b[39mis_cv:\n",
      "File \u001b[1;32mc:\\Users\\advay\\anaconda3\\lib\\site-packages\\xgboost\\callback.py:538\u001b[0m, in \u001b[0;36mEarlyStopping.before_training\u001b[1;34m(self, model)\u001b[0m\n\u001b[0;32m    537\u001b[0m \u001b[39mdef\u001b[39;00m \u001b[39mbefore_training\u001b[39m(\u001b[39mself\u001b[39m, model):\n\u001b[1;32m--> 538\u001b[0m     \u001b[39mself\u001b[39m\u001b[39m.\u001b[39mstarting_round \u001b[39m=\u001b[39m model\u001b[39m.\u001b[39;49mnum_boosted_rounds()\n\u001b[0;32m    539\u001b[0m     \u001b[39mreturn\u001b[39;00m model\n",
      "File \u001b[1;32mc:\\Users\\advay\\anaconda3\\lib\\site-packages\\xgboost\\core.py:2194\u001b[0m, in \u001b[0;36mBooster.num_boosted_rounds\u001b[1;34m(self)\u001b[0m\n\u001b[0;32m   2192\u001b[0m rounds \u001b[39m=\u001b[39m ctypes\u001b[39m.\u001b[39mc_int()\n\u001b[0;32m   2193\u001b[0m \u001b[39massert\u001b[39;00m \u001b[39mself\u001b[39m\u001b[39m.\u001b[39mhandle \u001b[39mis\u001b[39;00m \u001b[39mnot\u001b[39;00m \u001b[39mNone\u001b[39;00m\n\u001b[1;32m-> 2194\u001b[0m _check_call(_LIB\u001b[39m.\u001b[39;49mXGBoosterBoostedRounds(\u001b[39mself\u001b[39;49m\u001b[39m.\u001b[39;49mhandle, ctypes\u001b[39m.\u001b[39;49mbyref(rounds)))\n\u001b[0;32m   2195\u001b[0m \u001b[39mreturn\u001b[39;00m rounds\u001b[39m.\u001b[39mvalue\n",
      "File \u001b[1;32mc:\\Users\\advay\\anaconda3\\lib\\site-packages\\xgboost\\core.py:218\u001b[0m, in \u001b[0;36m_check_call\u001b[1;34m(ret)\u001b[0m\n\u001b[0;32m    207\u001b[0m \u001b[39m\"\"\"Check the return value of C API call\u001b[39;00m\n\u001b[0;32m    208\u001b[0m \n\u001b[0;32m    209\u001b[0m \u001b[39mThis function will raise exception when error occurs.\u001b[39;00m\n\u001b[1;32m   (...)\u001b[0m\n\u001b[0;32m    215\u001b[0m \u001b[39m    return value from API calls\u001b[39;00m\n\u001b[0;32m    216\u001b[0m \u001b[39m\"\"\"\u001b[39;00m\n\u001b[0;32m    217\u001b[0m \u001b[39mif\u001b[39;00m ret \u001b[39m!=\u001b[39m \u001b[39m0\u001b[39m:\n\u001b[1;32m--> 218\u001b[0m     \u001b[39mraise\u001b[39;00m XGBoostError(py_str(_LIB\u001b[39m.\u001b[39mXGBGetLastError()))\n",
      "\u001b[1;31mXGBoostError\u001b[0m: [19:57:32] d:\\bld\\xgboost-split_1645118015404\\work\\src\\common\\common.h:157: XGBoost version not compiled with GPU support."
     ]
    }
   ],
   "source": [
    "refined_model = XGBRegressor(random_state = 0, booster='gbtree', reg_alpha = 10,\n",
    "subsample = 0.7, n_estimators = 100, min_child_weight = 0, max_depth = 2, learning_rate = 0.1, gamma = 4, colsample_bytree = 1.0, \n",
    "colsample_bynode = 0.775, colsample_bylevel = 0.325, sampling_method = 'gradient_based', tree_method = 'gpu_hist')\n",
    "refined_model.fit(X_train, y_train, early_stopping_rounds=5, eval_set=[(X_test, y_test)], verbose=False)\n",
    "refined_accuracy = evaluate(refined_model, X_test, y_test)"
   ]
  },
  {
   "cell_type": "markdown",
   "metadata": {},
   "source": [
    "### Predicting competition data"
   ]
  },
  {
   "cell_type": "code",
   "execution_count": 28,
   "metadata": {},
   "outputs": [
    {
     "data": {
      "text/html": [
       "<div>\n",
       "<style scoped>\n",
       "    .dataframe tbody tr th:only-of-type {\n",
       "        vertical-align: middle;\n",
       "    }\n",
       "\n",
       "    .dataframe tbody tr th {\n",
       "        vertical-align: top;\n",
       "    }\n",
       "\n",
       "    .dataframe thead th {\n",
       "        text-align: right;\n",
       "    }\n",
       "</style>\n",
       "<table border=\"1\" class=\"dataframe\">\n",
       "  <thead>\n",
       "    <tr style=\"text-align: right;\">\n",
       "      <th></th>\n",
       "      <th>ID</th>\n",
       "      <th>Population</th>\n",
       "      <th>Median Age</th>\n",
       "      <th>Unemployment Rate</th>\n",
       "      <th>Median Income</th>\n",
       "      <th>Poverty Rate</th>\n",
       "    </tr>\n",
       "  </thead>\n",
       "  <tbody>\n",
       "    <tr>\n",
       "      <th>0</th>\n",
       "      <td>TX35</td>\n",
       "      <td>857654</td>\n",
       "      <td>33.0</td>\n",
       "      <td>4.1</td>\n",
       "      <td>18.4</td>\n",
       "      <td>25.2</td>\n",
       "    </tr>\n",
       "    <tr>\n",
       "      <th>1</th>\n",
       "      <td>PR16</td>\n",
       "      <td>678333</td>\n",
       "      <td>43.0</td>\n",
       "      <td>4.6</td>\n",
       "      <td>13.5</td>\n",
       "      <td>28.3</td>\n",
       "    </tr>\n",
       "    <tr>\n",
       "      <th>2</th>\n",
       "      <td>NY4</td>\n",
       "      <td>730314</td>\n",
       "      <td>40.4</td>\n",
       "      <td>3.6</td>\n",
       "      <td>5.7</td>\n",
       "      <td>43.6</td>\n",
       "    </tr>\n",
       "    <tr>\n",
       "      <th>3</th>\n",
       "      <td>OR1</td>\n",
       "      <td>858875</td>\n",
       "      <td>38.0</td>\n",
       "      <td>3.8</td>\n",
       "      <td>8.9</td>\n",
       "      <td>40.7</td>\n",
       "    </tr>\n",
       "    <tr>\n",
       "      <th>4</th>\n",
       "      <td>GA8</td>\n",
       "      <td>706237</td>\n",
       "      <td>37.6</td>\n",
       "      <td>5.3</td>\n",
       "      <td>17.3</td>\n",
       "      <td>22.7</td>\n",
       "    </tr>\n",
       "  </tbody>\n",
       "</table>\n",
       "</div>"
      ],
      "text/plain": [
       "     ID  Population  Median Age  Unemployment Rate  Median Income  \\\n",
       "0  TX35      857654        33.0                4.1           18.4   \n",
       "1  PR16      678333        43.0                4.6           13.5   \n",
       "2   NY4      730314        40.4                3.6            5.7   \n",
       "3   OR1      858875        38.0                3.8            8.9   \n",
       "4   GA8      706237        37.6                5.3           17.3   \n",
       "\n",
       "   Poverty Rate  \n",
       "0          25.2  \n",
       "1          28.3  \n",
       "2          43.6  \n",
       "3          40.7  \n",
       "4          22.7  "
      ]
     },
     "execution_count": 28,
     "metadata": {},
     "output_type": "execute_result"
    }
   ],
   "source": [
    "# reading competition data\n",
    "competition_data_path = 'C:\\\\Users\\\\advay\\\\OneDrive\\\\Desktop\\\\Coding\\\\VSCode\\\\Python\\\\AIS Summer Comp 2022\\\\evaluation_input.csv'\n",
    "competition_data = pd.read_csv(competition_data_path)\n",
    "competition_data.head()"
   ]
  },
  {
   "cell_type": "code",
   "execution_count": 29,
   "metadata": {},
   "outputs": [
    {
     "data": {
      "text/html": [
       "<div>\n",
       "<style scoped>\n",
       "    .dataframe tbody tr th:only-of-type {\n",
       "        vertical-align: middle;\n",
       "    }\n",
       "\n",
       "    .dataframe tbody tr th {\n",
       "        vertical-align: top;\n",
       "    }\n",
       "\n",
       "    .dataframe thead th {\n",
       "        text-align: right;\n",
       "    }\n",
       "</style>\n",
       "<table border=\"1\" class=\"dataframe\">\n",
       "  <thead>\n",
       "    <tr style=\"text-align: right;\">\n",
       "      <th></th>\n",
       "      <th>Population</th>\n",
       "      <th>Median Age</th>\n",
       "      <th>Unemployment Rate</th>\n",
       "      <th>Median Income</th>\n",
       "      <th>Poverty Rate</th>\n",
       "    </tr>\n",
       "  </thead>\n",
       "  <tbody>\n",
       "    <tr>\n",
       "      <th>0</th>\n",
       "      <td>857654</td>\n",
       "      <td>33.0</td>\n",
       "      <td>4.1</td>\n",
       "      <td>18.4</td>\n",
       "      <td>25.2</td>\n",
       "    </tr>\n",
       "    <tr>\n",
       "      <th>1</th>\n",
       "      <td>678333</td>\n",
       "      <td>43.0</td>\n",
       "      <td>4.6</td>\n",
       "      <td>13.5</td>\n",
       "      <td>28.3</td>\n",
       "    </tr>\n",
       "    <tr>\n",
       "      <th>2</th>\n",
       "      <td>730314</td>\n",
       "      <td>40.4</td>\n",
       "      <td>3.6</td>\n",
       "      <td>5.7</td>\n",
       "      <td>43.6</td>\n",
       "    </tr>\n",
       "    <tr>\n",
       "      <th>3</th>\n",
       "      <td>858875</td>\n",
       "      <td>38.0</td>\n",
       "      <td>3.8</td>\n",
       "      <td>8.9</td>\n",
       "      <td>40.7</td>\n",
       "    </tr>\n",
       "    <tr>\n",
       "      <th>4</th>\n",
       "      <td>706237</td>\n",
       "      <td>37.6</td>\n",
       "      <td>5.3</td>\n",
       "      <td>17.3</td>\n",
       "      <td>22.7</td>\n",
       "    </tr>\n",
       "  </tbody>\n",
       "</table>\n",
       "</div>"
      ],
      "text/plain": [
       "   Population  Median Age  Unemployment Rate  Median Income  Poverty Rate\n",
       "0      857654        33.0                4.1           18.4          25.2\n",
       "1      678333        43.0                4.6           13.5          28.3\n",
       "2      730314        40.4                3.6            5.7          43.6\n",
       "3      858875        38.0                3.8            8.9          40.7\n",
       "4      706237        37.6                5.3           17.3          22.7"
      ]
     },
     "execution_count": 29,
     "metadata": {},
     "output_type": "execute_result"
    }
   ],
   "source": [
    "# creating competition X\n",
    "competition_X = competition_data[features]\n",
    "competition_X.head()"
   ]
  },
  {
   "cell_type": "code",
   "execution_count": 30,
   "metadata": {},
   "outputs": [
    {
     "name": "stdout",
     "output_type": "stream",
     "text": [
      "[ 242104.73  137402.25  406398.44  284415.7   153550.64  189986.22\n",
      "  173408.2   290630.62  446218.28  122003.24  341582.94  320728.56\n",
      "  434516.28  311182.75  173995.58  171936.22  368468.16  243160.31\n",
      "  184441.94  244976.    261576.36  161537.48  184535.19  553461.7\n",
      "  526604.4   983565.    549755.3   474035.88  487509.5   284098.34\n",
      "  254975.72  518901.38  205313.81  190137.9   194070.62  259962.55\n",
      "  174862.19  313680.97  263887.75  267634.1   189374.47  119116.19\n",
      "  188177.22  429844.28  442395.84  407811.84  288517.62  351631.2\n",
      "  323660.7   114532.35  208044.1   860465.6   295123.5   176938.47\n",
      "  239438.47  184441.94  308530.16  173849.62  278671.06  228590.14\n",
      "  401095.2   327085.88  351694.97  175656.92  159106.81  435577.94\n",
      "  212398.25  456862.4   362873.94  324804.3   228590.14  178267.44\n",
      "  259518.4   157822.5   252032.    322267.72  294541.44  175043.4\n",
      "  186542.9   190339.25  166072.47  178659.56  171218.38  314035.7\n",
      "  619760.1   227309.67  205122.61  314976.94  189681.19  278811.9\n",
      "  131227.77  361997.28  289797.9   413189.06  203376.52  170550.12\n",
      "  327627.75  176938.47  351781.8   290020.53  262412.53  516025.84\n",
      "  122015.43  165167.1   322899.    219126.8   443262.28  124858.21\n",
      "  159106.81  255895.12  331801.75  238272.45  218423.6   162299.\n",
      "  109052.02  195722.25  191264.95  392491.47  359081.1   221555.25\n",
      "  206483.88  566069.4   188585.47  276867.    221800.66  418158.66\n",
      "  452643.47  219381.67  611060.7   362615.28  168255.3   370832.75\n",
      "  209983.47  581987.3   258778.4   177687.22  303532.84  466948.5\n",
      "  157470.4   334560.25 1026780.06  181483.55  526659.1   204501.31\n",
      "  270902.97  345186.25  172354.62  332714.44  544796.5   165897.84\n",
      "  193497.88  228590.14  243561.8   368873.34  187910.34  230437.95\n",
      "  460223.88  339595.4   160245.84  311772.62  299967.53  343640.34\n",
      "  329714.4   338559.62  240682.34  171455.48  173995.58  177784.06\n",
      "  343927.4   224963.4   409557.94  191606.02  283386.2   476459.34\n",
      "  180578.19  184503.94  260360.8   286661.75  352361.44  348374.75\n",
      "  256681.98  218069.31  185409.33  321707.47  161884.02  306744.9\n",
      "  205672.22  213018.34  183430.45  404529.22  251199.11  343552.16\n",
      "  203720.17  204036.38  441145.94  882400.9   160245.84  193678.03\n",
      "  381213.84  310371.06  208761.16  497737.53  273437.22  339012.16\n",
      "  479052.78  251221.95  321125.16  174517.9   166833.6   155971.22\n",
      "  530592.    304965.3 ]\n"
     ]
    },
    {
     "name": "stderr",
     "output_type": "stream",
     "text": [
      "c:\\Users\\advay\\anaconda3\\lib\\site-packages\\xgboost\\data.py:262: FutureWarning: pandas.Int64Index is deprecated and will be removed from pandas in a future version. Use pandas.Index with the appropriate dtype instead.\n",
      "  elif isinstance(data.columns, (pd.Int64Index, pd.RangeIndex)):\n"
     ]
    }
   ],
   "source": [
    "# competition predictions\n",
    "competition_preds = baseline_model.predict(competition_X)\n",
    "print(competition_preds)"
   ]
  },
  {
   "cell_type": "markdown",
   "metadata": {},
   "source": [
    "### Generating submission"
   ]
  },
  {
   "cell_type": "code",
   "execution_count": 31,
   "metadata": {},
   "outputs": [],
   "source": [
    "# Creating and outputting DataFrame\n",
    "output = pd.DataFrame({'ID': competition_data.ID, 'Median House Price': competition_preds})\n",
    "output.to_csv('Vyas_Advay_answer.csv', index=False)"
   ]
  }
 ],
 "metadata": {
  "kernelspec": {
   "display_name": "Python 3.9.12 ('base')",
   "language": "python",
   "name": "python3"
  },
  "language_info": {
   "codemirror_mode": {
    "name": "ipython",
    "version": 3
   },
   "file_extension": ".py",
   "mimetype": "text/x-python",
   "name": "python",
   "nbconvert_exporter": "python",
   "pygments_lexer": "ipython3",
   "version": "3.9.12"
  },
  "orig_nbformat": 4,
  "vscode": {
   "interpreter": {
    "hash": "b0d8b00385fed0be2ecd2298f954d5f87042379fb0759f0fcec831b5194ef8ba"
   }
  }
 },
 "nbformat": 4,
 "nbformat_minor": 2
}
